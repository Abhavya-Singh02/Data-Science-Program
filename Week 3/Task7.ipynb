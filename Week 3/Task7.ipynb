{
  "nbformat": 4,
  "nbformat_minor": 0,
  "metadata": {
    "colab": {
      "provenance": []
    },
    "kernelspec": {
      "name": "python3",
      "display_name": "Python 3"
    },
    "language_info": {
      "name": "python"
    }
  },
  "cells": [
    {
      "cell_type": "markdown",
      "source": [
        "##`Q-1:` Rectangle Class\n",
        "1. Write a Rectangle class in Python language, allowing you to build a rectangle with length and width attributes.\n",
        "\n",
        "2. Create a Perimeter() method to calculate the perimeter of the rectangle and a Area() method to calculate the area of ​​the rectangle.\n",
        "\n",
        "3. Create a method display() that display the length, width, perimeter and area of an object created using an instantiation on rectangle class."
      ],
      "metadata": {
        "id": "zf8cFxNt7bOD"
      }
    },
    {
      "cell_type": "code",
      "execution_count": null,
      "metadata": {
        "id": "QGFgB_Mz7ZO_"
      },
      "outputs": [],
      "source": [
        "class Rectangle:\n",
        "  def __init__(self,length,width):\n",
        "    self.__length=length\n",
        "    self.__width=width\n",
        "\n",
        "  def __perimeter(self):\n",
        "    return 2*(self.__length+self.__width)\n",
        "\n",
        "  def display(self):\n",
        "    print(f\"The length of rectangle is: {self.__length}\")\n",
        "    print(f\"The width of rectangle is: {self.__width}\")\n",
        "    print(f\"The perimeter of rectange is: {self.__perimeter()}\")\n",
        "    print(f\"The area of rectangle is: {self.__length*self.__width}\")\n"
      ]
    },
    {
      "cell_type": "code",
      "source": [
        "r1=Rectangle(50,40)\n",
        "r1.display()"
      ],
      "metadata": {
        "colab": {
          "base_uri": "https://localhost:8080/"
        },
        "id": "0T2wIfb19ZCY",
        "outputId": "f829a702-0af1-4572-a79a-e9c62cb74fc1"
      },
      "execution_count": null,
      "outputs": [
        {
          "output_type": "stream",
          "name": "stdout",
          "text": [
            "The length of rectangle is: 50\n",
            "The width of rectangle is: 40\n",
            "The perimeter of rectange is: 180\n",
            "The area of rectangle is: 2000\n"
          ]
        }
      ]
    },
    {
      "cell_type": "markdown",
      "source": [
        "##`Q-2: Bank Class`\n",
        "\n",
        "1. Create a Python class called `BankAccount` which represents a bank account, having as attributes: `accountNumber` (numeric type), `name` (name of the account owner as string type), `balance`.\n",
        "2. Create a constructor with parameters: `accountNumber, name, balance`.\n",
        "3. Create a `Deposit()` method which manages the deposit actions.\n",
        "4. Create a `Withdrawal()` method  which manages withdrawals actions.\n",
        "5. Create an `bankFees()` method to apply the bank fees with a percentage of 5% of the balance account.\n",
        "6. Create a `display()` method to display account details.\n",
        "Give the complete code for the  BankAccount class."
      ],
      "metadata": {
        "id": "dg3S8_M5-h7d"
      }
    },
    {
      "cell_type": "code",
      "source": [
        "class Bank:\n",
        "\n",
        "    def __init__(self, name, acc_no, balance):\n",
        "        self.__name = name\n",
        "        self.__acc_no = acc_no\n",
        "        self.__balance = balance\n",
        "\n",
        "    def display(self):\n",
        "        print('Account Number:', self.__acc_no)\n",
        "        print('Account Name:', self.__name)\n",
        "        print(f'Account Balance: {self.__balance:.2f} ₹')\n",
        "\n",
        "    def deposit(self, amount):\n",
        "        self.__balance += amount\n",
        "\n",
        "    def withdrawal(self, amount):  # Corrected the spelling here\n",
        "        if amount > self.__balance:\n",
        "            print('Insufficient funds')\n",
        "        else:\n",
        "            self.__balance -= amount\n",
        "            reduction = self.__bankFees()\n",
        "            self.__balance -= reduction\n",
        "\n",
        "    def __bankFees(self):\n",
        "        return 0.05 * self.__balance\n",
        "\n",
        "\n",
        "cust = Bank('Nitish', 1000000, 500)\n",
        "cust.deposit(500)\n",
        "cust.withdrawal(100)\n",
        "cust.display()\n"
      ],
      "metadata": {
        "colab": {
          "base_uri": "https://localhost:8080/"
        },
        "id": "bFG7VY0D9mvb",
        "outputId": "43f4ec50-104d-4201-9f1d-d989bbac3ffc"
      },
      "execution_count": null,
      "outputs": [
        {
          "output_type": "stream",
          "name": "stdout",
          "text": [
            "Account Number: 1000000\n",
            "Account Name: Nitish\n",
            "Account Balance: 855.00 ₹\n"
          ]
        }
      ]
    },
    {
      "cell_type": "code",
      "source": [
        "class Bank:\n",
        "\n",
        "    def __init__(self, name, acc_no, balance):\n",
        "        self.__name = name\n",
        "        self.__acc_no = acc_no\n",
        "        self.__balance = balance\n",
        "\n",
        "    def display(self):\n",
        "        print('Account Number:', self.__acc_no)\n",
        "        print('Account Name:', self.__name)\n",
        "        print(f'Account Balance: {self.__balance:.2f} ₹')\n",
        "\n",
        "    def deposit(self, amount):\n",
        "        self.__balance += amount\n",
        "\n",
        "    def withdrawal(self, amount):  # Corrected the spelling here\n",
        "        if amount > self.__balance:\n",
        "            print('Insufficient funds')\n",
        "        else:\n",
        "            self.__balance -= amount\n",
        "            reduction = self.__bankFees()\n",
        "            self.__balance -= reduction\n",
        "\n",
        "    def __bankFees(self):\n",
        "        return 0.05 * self.__balance\n",
        "\n",
        "# Example usage\n",
        "cust = Bank('Nitish', 1000000, 500)\n",
        "cust.deposit(500)\n",
        "cust.withdrawal(100)\n",
        "cust.display()\n"
      ],
      "metadata": {
        "colab": {
          "base_uri": "https://localhost:8080/"
        },
        "id": "6IXmxJ_4AntU",
        "outputId": "fc54308f-0128-45fe-a6b6-e755b9052533"
      },
      "execution_count": null,
      "outputs": [
        {
          "output_type": "stream",
          "name": "stdout",
          "text": [
            "Account Number: 2178514584\n",
            "Account Name: Mandy\n",
            "Account Balance: 100.0\n"
          ]
        }
      ]
    },
    {
      "cell_type": "markdown",
      "source": [
        "##`Q-3:Computation class`\n",
        "\n",
        "1. Create a `Computation` class with a default constructor (without parameters) allowing to perform various calculations on integers numbers.\n",
        "2. Create a method called `Factorial()` which allows to calculate the factorial of an integer n. Integer n as parameter for this method\n",
        "\n",
        "3. Create a method called `naturalSum()` allowing to calculate the sum of the first n integers 1 + 2 + 3 + .. + n. Integer n as parameter for this method.\n",
        "\n",
        "4. Create a method called `testPrime()` in  the Calculation class to test the primality of a given integer n, n is Prime or Not? Integer n as parameter for this method.\n",
        "\n",
        "5. Create  a method called `testPrims()` allowing to test if two numbers are prime between them. Two integers are prime to one another if they have only `1` as their common divisor. Eg. 4 and 9 are prime to each other.\n",
        "\n",
        "5. Create a `tableMult()` method which creates and displays the multiplication table of a given integer. Then create an `allTablesMult()` method to display all the integer multiplication tables 1, 2, 3, ..., 9.\n",
        "\n",
        "6. Create a static `listDiv()` method that gets all the divisors of a given integer on new list called  Ldiv. Create another `listDivPrim()` method that gets all the prime divisors of a given integer."
      ],
      "metadata": {
        "id": "-IkA5BhHCWlr"
      }
    },
    {
      "cell_type": "code",
      "source": [
        "class Computation:\n",
        "  def __init__(self):\n",
        "    pass\n",
        "\n",
        "  def factorial(self,n):\n",
        "    fact=1\n",
        "    if n==0 or n==1:\n",
        "      print(f\"Factorial of {n} is 1\")\n",
        "    else:\n",
        "      for i in range(1,n+1):\n",
        "        fact=fact*i\n",
        "      print(f\"Factorial of {n} is {fact}\")\n",
        "\n",
        "  def naturalSum(self,n):\n",
        "    sum =0\n",
        "    for i in range(1,n+1):\n",
        "      sum+=i\n",
        "      print(f\"Factorial of {n} is {sum}\")\n",
        "\n",
        "  def testPrime(self,n):\n",
        "    isPrime=True\n",
        "    for i in range(2,int(n**0.5)+1):\n",
        "      if n % i==0:\n",
        "        isPrime=False\n",
        "        break\n",
        "\n",
        "    if isPrime:\n",
        "      print(f\"{n} is a prime number\")\n",
        "      return True\n",
        "    else:\n",
        "      return False\n",
        "\n",
        "  def testPrims(self,n,m):\n",
        "    commonDiv = 0\n",
        "    for i in range (1, n + 1):\n",
        "        if (n% i == 0 and m% i == 0):\n",
        "            commonDiv = commonDiv + 1\n",
        "    if commonDiv == 1:\n",
        "        print (\"The numbers\", n, \"and\", m, \"are co-primes\")\n",
        "    else:\n",
        "        print (\"The numbers\", n, \"and\", m, \"are not co-primes\")\n",
        "\n",
        "  def tableMult(self,n):\n",
        "    print(f\"Table of {n} is:-\")\n",
        "    for i in range(1,n+1):\n",
        "      print(f\"{n} X {i} = {n*i}\")\n",
        "\n",
        "  def allTablesMult(self):\n",
        "    for i in range(1,9+1):\n",
        "      print(f\"\\nThe Table of {i} is:-\")\n",
        "      for j in range(1,10+1):\n",
        "        print(f\"{i} X {j} = {i*j}\")\n",
        "\n",
        "  def listDiv(self, n):\n",
        "    lDiv = []\n",
        "    for i in range (1, n + 1):\n",
        "        if (n% i == 0):\n",
        "            lDiv.append (i)\n",
        "    return lDiv\n",
        "\n",
        "  def listPrimeDivisor(self,n):\n",
        "    li=[]\n",
        "    for i in range(2,n+1):\n",
        "      if (n%i==0 and self.testPrime(i)):\n",
        "        li.append(i)\n",
        "    return li\n",
        "\n",
        "Comput= Computation()\n",
        "Comput.testPrims(13, 7)\n",
        "print (\"List of divisors of 18:\", Comput.listDiv(18))\n",
        "print (\"List of prime divisors of 18:\", Comput.listPrimeDivisor(18))\n",
        "Comput.allTablesMult()"
      ],
      "metadata": {
        "id": "tsVK-63UApyC",
        "colab": {
          "base_uri": "https://localhost:8080/"
        },
        "outputId": "52fbee03-73ca-45fd-b658-e674b7d2bf09"
      },
      "execution_count": 14,
      "outputs": [
        {
          "output_type": "stream",
          "name": "stdout",
          "text": [
            "The numbers 13 and 7 are co-primes\n",
            "List of divisors of 18: [1, 2, 3, 6, 9, 18]\n",
            "2 is a prime number\n",
            "3 is a prime number\n",
            "List of prime divisors of 18: [2, 3]\n",
            "\n",
            "The Table of 1 is:-\n",
            "1 X 1 = 1\n",
            "1 X 2 = 2\n",
            "1 X 3 = 3\n",
            "1 X 4 = 4\n",
            "1 X 5 = 5\n",
            "1 X 6 = 6\n",
            "1 X 7 = 7\n",
            "1 X 8 = 8\n",
            "1 X 9 = 9\n",
            "1 X 10 = 10\n",
            "\n",
            "The Table of 2 is:-\n",
            "2 X 1 = 2\n",
            "2 X 2 = 4\n",
            "2 X 3 = 6\n",
            "2 X 4 = 8\n",
            "2 X 5 = 10\n",
            "2 X 6 = 12\n",
            "2 X 7 = 14\n",
            "2 X 8 = 16\n",
            "2 X 9 = 18\n",
            "2 X 10 = 20\n",
            "\n",
            "The Table of 3 is:-\n",
            "3 X 1 = 3\n",
            "3 X 2 = 6\n",
            "3 X 3 = 9\n",
            "3 X 4 = 12\n",
            "3 X 5 = 15\n",
            "3 X 6 = 18\n",
            "3 X 7 = 21\n",
            "3 X 8 = 24\n",
            "3 X 9 = 27\n",
            "3 X 10 = 30\n",
            "\n",
            "The Table of 4 is:-\n",
            "4 X 1 = 4\n",
            "4 X 2 = 8\n",
            "4 X 3 = 12\n",
            "4 X 4 = 16\n",
            "4 X 5 = 20\n",
            "4 X 6 = 24\n",
            "4 X 7 = 28\n",
            "4 X 8 = 32\n",
            "4 X 9 = 36\n",
            "4 X 10 = 40\n",
            "\n",
            "The Table of 5 is:-\n",
            "5 X 1 = 5\n",
            "5 X 2 = 10\n",
            "5 X 3 = 15\n",
            "5 X 4 = 20\n",
            "5 X 5 = 25\n",
            "5 X 6 = 30\n",
            "5 X 7 = 35\n",
            "5 X 8 = 40\n",
            "5 X 9 = 45\n",
            "5 X 10 = 50\n",
            "\n",
            "The Table of 6 is:-\n",
            "6 X 1 = 6\n",
            "6 X 2 = 12\n",
            "6 X 3 = 18\n",
            "6 X 4 = 24\n",
            "6 X 5 = 30\n",
            "6 X 6 = 36\n",
            "6 X 7 = 42\n",
            "6 X 8 = 48\n",
            "6 X 9 = 54\n",
            "6 X 10 = 60\n",
            "\n",
            "The Table of 7 is:-\n",
            "7 X 1 = 7\n",
            "7 X 2 = 14\n",
            "7 X 3 = 21\n",
            "7 X 4 = 28\n",
            "7 X 5 = 35\n",
            "7 X 6 = 42\n",
            "7 X 7 = 49\n",
            "7 X 8 = 56\n",
            "7 X 9 = 63\n",
            "7 X 10 = 70\n",
            "\n",
            "The Table of 8 is:-\n",
            "8 X 1 = 8\n",
            "8 X 2 = 16\n",
            "8 X 3 = 24\n",
            "8 X 4 = 32\n",
            "8 X 5 = 40\n",
            "8 X 6 = 48\n",
            "8 X 7 = 56\n",
            "8 X 8 = 64\n",
            "8 X 9 = 72\n",
            "8 X 10 = 80\n",
            "\n",
            "The Table of 9 is:-\n",
            "9 X 1 = 9\n",
            "9 X 2 = 18\n",
            "9 X 3 = 27\n",
            "9 X 4 = 36\n",
            "9 X 5 = 45\n",
            "9 X 6 = 54\n",
            "9 X 7 = 63\n",
            "9 X 8 = 72\n",
            "9 X 9 = 81\n",
            "9 X 10 = 90\n"
          ]
        }
      ]
    },
    {
      "cell_type": "markdown",
      "source": [
        "##`Q-4`: Build flashcard using class in Python.\n",
        "\n",
        "Build a flashcard using class in python. A flashcard is a card having information on both sides, which can be used as an aid in memoization. Flashcards usually have a question on one side and an answer on the other.\n",
        "\n",
        "**Example 1:**\n",
        "\n",
        "Approach:\n",
        "\n",
        "- Create a class named FlashCard.\n",
        "- Initialize dictionary fruits using __init__() method. Here you have to define fruit name as key and it's color as value. E.g., {\"Banana\": \"yellow\", \"Strawberries\": \"pink\"}\n",
        "- Now randomly choose a pair from fruits by using _random_ module and store the key in variable _fruit_ and _value_ in variable color.\n",
        "- Now prompt the user to answer the color of the randomly chosen fruit.\n",
        "- If correct print correct else print wrong.\n",
        "\n",
        "Output:\n",
        "```bash\n",
        "welcome to fruit quiz\n",
        "What is the color of Strawberries\n",
        "pink\n",
        "Correct answer\n",
        "Enter 0, if you want to play again: 0\n",
        "What is the color of watermelon\n",
        "green\n",
        "Correct answer\n",
        "Enter 0, if you want to play again: 1\n",
        "```"
      ],
      "metadata": {
        "id": "q6wv12uGSlGz"
      }
    },
    {
      "cell_type": "code",
      "source": [
        "import random\n",
        "class Flashcard:\n",
        "  def __init__(self):\n",
        "    self.__fruits={\"Apple\":\"Red\",\"Banana\":\"Yellow\",\"Guava\":\"Green\",\"Strawberry\":\"Pink\",\"Chickoo\":\"Brown\",\"Pomeogranate\":\"Red\",\"Blueberry\":\"Blue\",\"Orange\":\"Orange\"}\n",
        "\n",
        "  def StartGame(self):\n",
        "    while True:\n",
        "      fruit,color = random.choice(list(self.__fruits.items()))\n",
        "      print(f\"What is the color of {fruit}\")\n",
        "      answer=input(\"Color:\")\n",
        "      if answer.capitalize()==color:\n",
        "        print(\"Right Answer!!\")\n",
        "      else:\n",
        "        print(\"Wrong Answer!!\")\n",
        "\n",
        "      choice=input(\"Enter 0 to play again 1 to exit the game: \")\n",
        "      if choice:\n",
        "        break\n",
        "\n",
        "print(\"Welcome to the fruit quiz\")\n",
        "fc = Flashcard()\n",
        "fc.StartGame()"
      ],
      "metadata": {
        "colab": {
          "base_uri": "https://localhost:8080/"
        },
        "id": "n15TUvC6-6X6",
        "outputId": "e5cb27bb-b606-4b36-88ea-9ec43a6d030c"
      },
      "execution_count": 26,
      "outputs": [
        {
          "name": "stdout",
          "output_type": "stream",
          "text": [
            "Welcome to the fruit quiz\n",
            "What is the color of Pomeogranate\n",
            "Color:red\n",
            "Right Answer!!\n",
            "Enter 0 to play again 1 to exit the game: 1\n"
          ]
        }
      ]
    },
    {
      "cell_type": "markdown",
      "source": [
        "## `Q-5:` Problem 5 based on OOP Python.\n",
        "\n",
        "TechWorld, a technology training center, wants to allocate courses for instructors. An instructor is identified by name, technology skills, experience and average feedback. An instructor is allocated a course, if he/she satisfies the below two conditions:\n",
        "- eligibility criteria:\n",
        "    - if experience is more than 3 years, average feedback should be 4.5 or more\n",
        "    - if experience is 3 years or less, average feedback should be 4 or more\n",
        "- he/she should posses the technology skill for the course\n",
        "\n",
        "Identify the class name and attributes to represent instructors. Write a Python program to implement the class chosen with its attributes and methods.\n",
        "\n",
        "**Note:**\n",
        "- Consider all instance variables to be private and methods to be public.\n",
        "- An instructor may have multiple technology skills, so consider instance variable, technology_skill to be a list.\n",
        "- *check_eligibility()*: Return true if eligibility criteria is satisfied by the instructor. Else, return false\n",
        "- *allocate_course(technology)*: Return true if the course which requires the given technology can be allocated to the instructor. Else, return false.\n",
        "\n",
        "Represent a few objects of the class, initialize instance variables using setter methods, invoke\n",
        "appropriate methods and test your program."
      ],
      "metadata": {
        "id": "w6CptegRYpe-"
      }
    },
    {
      "cell_type": "code",
      "source": [
        "# write your code here\n",
        "\n",
        "class Instructor:\n",
        "\n",
        "    def __init__(self,name,technology,experience,feedback):\n",
        "        self.__name = name\n",
        "        self.__technology = technology\n",
        "        self.__experience = experience\n",
        "        self.__feedback = feedback\n",
        "\n",
        "    def check_eligibility(self):\n",
        "\n",
        "        if self.__experience > 3 and self.__feedback >= 4.5:\n",
        "            return True\n",
        "        elif self.__experience <= 3 and self.__feedback >= 4:\n",
        "            return True\n",
        "        else:\n",
        "            return False\n",
        "\n",
        "    def allocate_course(self,tech):\n",
        "        is_eligible = self.check_eligibility()\n",
        "\n",
        "        if is_eligible:\n",
        "            if tech in self.__technology:\n",
        "                return 'Padha sakta hai'\n",
        "            else:\n",
        "                return 'Ye to usko aata hi nai hai'\n",
        "        else:\n",
        "            return 'acha nai padhata hai'\n",
        "\n",
        "ins = Instructor('Nitish',['Data Science','Web Development'],5,4.9)\n",
        "ins.allocate_course('Android Dev')\n"
      ],
      "metadata": {
        "colab": {
          "base_uri": "https://localhost:8080/",
          "height": 35
        },
        "id": "JPsatOXPYp6x",
        "outputId": "8f593d62-2e91-4620-be95-6da4296c74f2"
      },
      "execution_count": 27,
      "outputs": [
        {
          "output_type": "execute_result",
          "data": {
            "text/plain": [
              "'Ye to usko aata hi nai hai'"
            ],
            "application/vnd.google.colaboratory.intrinsic+json": {
              "type": "string"
            }
          },
          "metadata": {},
          "execution_count": 27
        }
      ]
    },
    {
      "cell_type": "code",
      "source": [],
      "metadata": {
        "id": "aob3aoCdZT8B"
      },
      "execution_count": null,
      "outputs": []
    }
  ]
}