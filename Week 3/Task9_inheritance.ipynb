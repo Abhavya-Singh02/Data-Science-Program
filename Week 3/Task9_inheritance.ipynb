{
  "nbformat": 4,
  "nbformat_minor": 0,
  "metadata": {
    "colab": {
      "provenance": []
    },
    "kernelspec": {
      "name": "python3",
      "display_name": "Python 3"
    },
    "language_info": {
      "name": "python"
    }
  },
  "cells": [
    {
      "cell_type": "markdown",
      "source": [
        "### `Problem-1:` Class inheritence\n",
        "\n",
        "Create a **Bus** child class that inherits from the Vehicle class. The default fare charge of any vehicle is seating capacity * 100. If Vehicle is Bus instance, we need to add an extra 10% on full fare as a maintenance charge. So total fare for bus instance will become the final amount = total fare + 10% of the total fare.\n",
        "\n",
        "Note: The bus seating capacity is 50. so the final fare amount should be 5500. You need to override the fare() method of a Vehicle class in Bus class."
      ],
      "metadata": {
        "id": "A7TViemhWp9J"
      }
    },
    {
      "cell_type": "code",
      "execution_count": null,
      "metadata": {
        "colab": {
          "base_uri": "https://localhost:8080/"
        },
        "id": "3T5WjEP2WjWM",
        "outputId": "1e942eba-436e-424d-d4ba-4984f35ef23c"
      },
      "outputs": [
        {
          "output_type": "execute_result",
          "data": {
            "text/plain": [
              "5500.0"
            ]
          },
          "metadata": {},
          "execution_count": 2
        }
      ],
      "source": [
        "class Vehicle:\n",
        "  def __init__(self,type,capacity) -> None:\n",
        "    self.__type=type\n",
        "    self.__capacity=capacity\n",
        "\n",
        "  def fare(self):\n",
        "    return self.__capacity*100\n",
        "\n",
        "\n",
        "class Bus(Vehicle):\n",
        "  def fare(self):\n",
        "    initialFare=super().fare()\n",
        "    totalFare=initialFare + 0.1*initialFare\n",
        "    return totalFare\n",
        "\n",
        "b1=Bus(\"School Bus\", 50)\n",
        "b1.fare()"
      ]
    },
    {
      "cell_type": "markdown",
      "source": [
        "### `Problem-2:` Class Inheritence\n",
        "\n",
        "Create a Bus class that inherits from the Vehicle class. Give the capacity argument of *Bus.seating_capacity()* a default value of 50.\n",
        "\n",
        "Use the following code for your parent Vehicle class."
      ],
      "metadata": {
        "id": "37yjJeh-Zqqp"
      }
    },
    {
      "cell_type": "code",
      "source": [
        "class Bus(Vehicle):\n",
        "    def __init__(self, type, capacity=50):\n",
        "        super().__init__(type, capacity)\n",
        "\n",
        "    def seating_capacity(self, capacity=50):\n",
        "        return f\"The seating capacity of a {self.__class__.__name__} is {capacity} passengers.\"\n",
        "\n",
        "    def fare(self):\n",
        "        initial_fare = super().fare()\n",
        "        total_fare = initial_fare + 0.1 * initial_fare  # Adding 10% extra charge\n",
        "        return total_fare\n"
      ],
      "metadata": {
        "id": "9ClLoZ6TZBSO"
      },
      "execution_count": null,
      "outputs": []
    },
    {
      "cell_type": "code",
      "source": [
        "b1 = Bus(\"School Bus\")  # Default capacity of 50\n",
        "print(b1.seating_capacity())  # Output: The seating capacity of a Bus is 50 passengers.\n",
        "print(b1.fare())  # Calculates and prints the total fare with 10% extra charge\n",
        "\n",
        "b2 = Bus(\"City Bus\", 40)  # Capacity of 40\n",
        "print(b2.seating_capacity())  # Output: The seating capacity of a Bus is 40 passengers.\n",
        "print(b2.fare())  # Calculates and prints the total fare with 10% extra charge\n"
      ],
      "metadata": {
        "colab": {
          "base_uri": "https://localhost:8080/"
        },
        "id": "ftZqeMmbaCfr",
        "outputId": "929e491e-015b-475a-af51-a79a8a28751c"
      },
      "execution_count": null,
      "outputs": [
        {
          "output_type": "stream",
          "name": "stdout",
          "text": [
            "The seating capacity of a Bus is 50 passengers.\n",
            "5500.0\n",
            "The seating capacity of a Bus is 50 passengers.\n",
            "4400.0\n"
          ]
        }
      ]
    },
    {
      "cell_type": "markdown",
      "source": [
        "### `Problem-3:` Write a program that has a class Point. Define another class Location which has two objects (Location & Destination) of class Point. Also define a function in Location that prints the reflection of Destination on the x axis."
      ],
      "metadata": {
        "id": "tNoyVq2Dai9R"
      }
    },
    {
      "cell_type": "code",
      "source": [
        "class Point:\n",
        "  def __init__(self,x,y):\n",
        "    self.x=x\n",
        "    self.y=y\n",
        "\n",
        "  def showPoint(self):\n",
        "    return f\"({self.x},{self.y})\"\n",
        "\n",
        "class Location:\n",
        "  def __init__(self,x1,x2,y1,y2):\n",
        "    self.source=Point(x1,y1)\n",
        "    self.destination=Point(x2,y2)\n",
        "\n",
        "  def show(self):\n",
        "    print(f\"Source is {self.source.showPoint()}\")\n",
        "    print(f\"Source is {self.destination.showPoint()}\")\n",
        "\n",
        "  def reflection(self):\n",
        "    self.destination.y=-self.destination.y\n",
        "    print(f\"Reflection is: {self.destination.showPoint()}\")\n",
        "\n",
        "L = Location(0,0,1,1)\n",
        "L.show()\n",
        "L.reflection()"
      ],
      "metadata": {
        "colab": {
          "base_uri": "https://localhost:8080/"
        },
        "id": "1PyPNkjoaFeY",
        "outputId": "5e9264c0-9314-4cbc-d941-b19d0d6eabe3"
      },
      "execution_count": null,
      "outputs": [
        {
          "output_type": "stream",
          "name": "stdout",
          "text": [
            "Source is (0,1)\n",
            "Source is (0,1)\n",
            "Reflection is: (0,-1)\n"
          ]
        }
      ]
    },
    {
      "cell_type": "markdown",
      "source": [
        "### `Problem-4:` Write a program that has an abstract class Polygon. Derive two classes Rectangle and Triamgle from Polygon and write methods to get the details of their dimensions and hence calculate the area."
      ],
      "metadata": {
        "id": "Cq8OjNqKmm6K"
      }
    },
    {
      "cell_type": "code",
      "source": [
        "from abc import ABC, abstractmethod\n",
        "class Polygon(ABC):\n",
        "\n",
        "  @abstractmethod\n",
        "  def data():\n",
        "    pass\n",
        "\n",
        "  @abstractmethod\n",
        "  def area():\n",
        "    pass\n",
        "\n",
        "class Rectangle(Polygon):\n",
        "  def data(self,l,b):\n",
        "    self.l=l\n",
        "    self.b=b\n",
        "\n",
        "  def area(self):\n",
        "    return self.b*self.l\n",
        "\n",
        "class Triangle(Polygon):\n",
        "  def data(self,b,h):\n",
        "    self.b=b\n",
        "    self.h=h\n",
        "\n",
        "  def area(self):\n",
        "    return (1/2)*self.b*self.h\n",
        "\n",
        "rect = Rectangle()\n",
        "rect.data(4,5)\n",
        "print(rect.area())\n",
        "\n",
        "tri = Triangle()\n",
        "tri.data(4,5)\n",
        "tri.area()\n"
      ],
      "metadata": {
        "colab": {
          "base_uri": "https://localhost:8080/"
        },
        "id": "Afy6w3iEbMZK",
        "outputId": "5f342aff-0e50-405c-e8f4-ec84bbe7f6c4"
      },
      "execution_count": null,
      "outputs": [
        {
          "output_type": "stream",
          "name": "stdout",
          "text": [
            "20\n"
          ]
        },
        {
          "output_type": "execute_result",
          "data": {
            "text/plain": [
              "10.0"
            ]
          },
          "metadata": {},
          "execution_count": 17
        }
      ]
    },
    {
      "cell_type": "markdown",
      "source": [
        "### `Problem-5:` Write a program with class Bill. The users have the option to pay the bill either by cheque or by cash. Use the inheritance to model this situation."
      ],
      "metadata": {
        "id": "g8qjgIW4oDWo"
      }
    },
    {
      "cell_type": "code",
      "source": [
        "# Base class for Bill\n",
        "class Bill:\n",
        "    def __init__(self, items):\n",
        "        self.items = items  # Dictionary of items with their prices\n",
        "        self.amount = sum(self.items.values())  # Calculate the total amount\n",
        "\n",
        "    def display_items(self):\n",
        "        print(\"Items purchased:\")\n",
        "        for item, price in self.items.items():\n",
        "            print(f\"- {item}: ₹{price}\")\n",
        "        print(f\"Total amount: ₹{self.amount}\\n\")\n",
        "\n",
        "    def pay_bill(self):\n",
        "        raise NotImplementedError(\"This method should be overridden by subclasses\")\n",
        "\n",
        "\n",
        "# Derived class for Cash payment\n",
        "class CashPayment(Bill):\n",
        "    def __init__(self, items, cash_tendered):\n",
        "        super().__init__(items)\n",
        "        self.cash_tendered = cash_tendered\n",
        "\n",
        "    def calculate_denominations(self, amount):\n",
        "        denominations = [2000, 500, 200, 100, 50, 20, 10, 5, 2, 1]\n",
        "        result = {}\n",
        "        for denomination in denominations:\n",
        "            count = amount // denomination\n",
        "            if count > 0:\n",
        "                result[denomination] = count\n",
        "                amount %= denomination\n",
        "        return result\n",
        "\n",
        "    def pay_bill(self):\n",
        "        self.display_items()\n",
        "        if self.cash_tendered >= self.amount:\n",
        "            change = self.cash_tendered - self.amount\n",
        "            print(f\"Bill paid by cash. Cash tendered: ₹{self.cash_tendered}\")\n",
        "            print(\"Denominations used:\")\n",
        "            for denomination, count in self.calculate_denominations(self.cash_tendered).items():\n",
        "                print(f\"₹{denomination} x {count}\")\n",
        "\n",
        "            if change > 0:\n",
        "                print(f\"Change: ₹{change}\")\n",
        "                print(\"Change denominations:\")\n",
        "                for denomination, count in self.calculate_denominations(change).items():\n",
        "                    print(f\"₹{denomination} x {count}\")\n",
        "            return \"\"\n",
        "        else:\n",
        "            return \"Insufficient cash to pay the bill.\"\n",
        "\n",
        "\n",
        "# Derived class for Cheque payment\n",
        "class ChequePayment(Bill):\n",
        "    def __init__(self, items, cheque_number):\n",
        "        super().__init__(items)\n",
        "        self.cheque_number = cheque_number\n",
        "\n",
        "    def pay_bill(self):\n",
        "        self.display_items()\n",
        "        return f\"Bill paid by cheque. Cheque number: {self.cheque_number}\"\n",
        "\n",
        "\n",
        "# Example usage\n",
        "if __name__ == \"__main__\":\n",
        "    items1 = {\"Milk\": 45, \"Bread\": 30, \"Eggs\": 60}\n",
        "    bill1 = CashPayment(items1, 200)\n",
        "    print(bill1.pay_bill())  # Display items, denominations, and payment information\n",
        "\n",
        "    items2 = {\"Laptop\": 50000, \"Mouse\": 500}\n",
        "    bill2 = ChequePayment(items2, \"CHQ123456\")\n",
        "    print(bill2.pay_bill())  # Display items and payment information\n"
      ],
      "metadata": {
        "colab": {
          "base_uri": "https://localhost:8080/"
        },
        "id": "mCX28PE8nsRX",
        "outputId": "a5bfa34c-b3f8-43b0-84d3-d0cbd2e81801"
      },
      "execution_count": null,
      "outputs": [
        {
          "output_type": "stream",
          "name": "stdout",
          "text": [
            "Items purchased:\n",
            "- Milk: ₹45\n",
            "- Bread: ₹30\n",
            "- Eggs: ₹60\n",
            "Total amount: ₹135\n",
            "\n",
            "Bill paid by cash. Cash tendered: ₹200\n",
            "Denominations used:\n",
            "₹200 x 1\n",
            "Change: ₹65\n",
            "Change denominations:\n",
            "₹50 x 1\n",
            "₹10 x 1\n",
            "₹5 x 1\n",
            "\n",
            "Items purchased:\n",
            "- Laptop: ₹50000\n",
            "- Mouse: ₹500\n",
            "Total amount: ₹50500\n",
            "\n",
            "Bill paid by cheque. Cheque number: CHQ123456\n"
          ]
        }
      ]
    },
    {
      "cell_type": "markdown",
      "source": [
        "###`Q-6:` FlexibleDict\n",
        "As of now we are accessing values from dictionary with exact keys. Now we want to amend accessing values functionality. if a dict have key `1` (int) the even if we try to access values by giving `'1'` (1 as str) as key, we should get the same result and vice versa.\n",
        "\n",
        "Write a class `FlexibleDict` upon builtin `dict` class with above required functionality.\n",
        "\n",
        "Hint- `dict[key] => dict.__getitem__(key)`"
      ],
      "metadata": {
        "id": "5OUY9898y-GU"
      }
    },
    {
      "cell_type": "code",
      "source": [],
      "metadata": {
        "id": "iDk5VUp8pgEs"
      },
      "execution_count": null,
      "outputs": []
    }
  ]
}