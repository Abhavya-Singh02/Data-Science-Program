{
 "cells": [
  {
   "cell_type": "code",
   "execution_count": 8,
   "metadata": {},
   "outputs": [],
   "source": [
    "class ATM:\n",
    "\n",
    "    #constructor->special function->super power\n",
    "    def __init__(self) -> None:\n",
    "        self.pin=\"\"\n",
    "        # enter manually object balance because its not connenct to bank database\n",
    "        self.amount=20000\n",
    "        self.menu()\n",
    "\n",
    "    def menu(self):\n",
    "        userInput=int(input(\"\"\"\n",
    "        Hi! How can I help you?\n",
    "        1. Press 1 to create pin\n",
    "        2. Press 2 to change pin\n",
    "        3. Press 3 to check balance\n",
    "        4. Press 4 to withdraw \n",
    "        5. Press 5 to exit             \n",
    "        \"\"\" ))\n",
    "\n",
    "        if userInput==1:\n",
    "            self.createPin()\n",
    "        if userInput==2:\n",
    "            self.changePin()\n",
    "        if userInput==3:\n",
    "            self.checkBalance()\n",
    "        if userInput==4:\n",
    "            self.withdraw()\n",
    "        if userInput==5:\n",
    "            exit()\n",
    "        \n",
    "    def createPin(self):\n",
    "        userPin=input(\"Enter your pin: \")\n",
    "        self.pin=userPin\n",
    "\n",
    "        print(\"Pin created Successfully.\")\n",
    "        self.menu()\n",
    "    \n",
    "    def changePin(self):\n",
    "        oldPin=input(\"Enter you old pin: \")\n",
    "        if oldPin==self.pin:\n",
    "            newPin= input(\"Enter you new pin:\")\n",
    "            reEnter=input(\"Confirm your new pin:\")\n",
    "            if newPin==reEnter:\n",
    "                self.pin=newPin\n",
    "                print(\"pin change successfully\")\n",
    "        else:\n",
    "            print(\"entered old pin was incorrect\")\n",
    "        self.menu()\n",
    "            \n",
    "    def checkBalance(self):\n",
    "        userPin=input(\"Enter you pin: \")\n",
    "        if userPin==self.pin:\n",
    "            print(f\"Your current balance is: {self.amount}\")\n",
    "        else:\n",
    "            print(\"Please enter correct pin\")\n",
    "        self.menu()\n",
    "\n",
    "    def withdraw(self):\n",
    "        userPin=input(\"Enter your pin:\")\n",
    "        if userPin==self.pin:\n",
    "            withdrawAmount=int(input(\"Enter the amount to withdraw: \"))\n",
    "            if withdrawAmount>self.amount:\n",
    "                print(f\"Your balance is less than {withdrawAmount}\")\n",
    "            else:\n",
    "                self.amount=self.amount-withdrawAmount\n",
    "                print('withdrawl successful.balance is',self.amount)\n",
    "        else:\n",
    "            print(\"Please enter correct pin\")\n",
    "        self.menu()\n",
    "\n"
   ]
  },
  {
   "cell_type": "code",
   "execution_count": 9,
   "metadata": {},
   "outputs": [
    {
     "name": "stdout",
     "output_type": "stream",
     "text": [
      "Pin created Successfully.\n",
      "withdrawl successful.balance is 19800\n"
     ]
    },
    {
     "ename": "",
     "evalue": "",
     "output_type": "error",
     "traceback": [
      "\u001b[1;31mThe Kernel crashed while executing code in the current cell or a previous cell. \n",
      "\u001b[1;31mPlease review the code in the cell(s) to identify a possible cause of the failure. \n",
      "\u001b[1;31mClick <a href='https://aka.ms/vscodeJupyterKernelCrash'>here</a> for more info. \n",
      "\u001b[1;31mView Jupyter <a href='command:jupyter.viewOutput'>log</a> for further details."
     ]
    }
   ],
   "source": [
    "person1 = ATM()"
   ]
  },
  {
   "cell_type": "code",
   "execution_count": null,
   "metadata": {},
   "outputs": [],
   "source": []
  }
 ],
 "metadata": {
  "kernelspec": {
   "display_name": "Python 3",
   "language": "python",
   "name": "python3"
  },
  "language_info": {
   "codemirror_mode": {
    "name": "ipython",
    "version": 3
   },
   "file_extension": ".py",
   "mimetype": "text/x-python",
   "name": "python",
   "nbconvert_exporter": "python",
   "pygments_lexer": "ipython3",
   "version": "3.10.13"
  }
 },
 "nbformat": 4,
 "nbformat_minor": 2
}
