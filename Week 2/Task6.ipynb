{
 "cells": [
  {
   "cell_type": "markdown",
   "metadata": {},
   "source": [
    "Problem-1: Write a Python function that takes a list and returns a new list with unique elements of the first list.\n",
    "\n",
    "Exercise 1:\n",
    "\n",
    "Input:\n",
    "\n",
    "[1,2,3,3,3,3,4,5]\n",
    "\n",
    "Output:\n",
    "\n",
    "[1, 2, 3, 4, 5]"
   ]
  },
  {
   "cell_type": "code",
   "execution_count": 4,
   "metadata": {},
   "outputs": [
    {
     "data": {
      "text/plain": [
       "[1, 2, 3, 4, 5]"
      ]
     },
     "execution_count": 4,
     "metadata": {},
     "output_type": "execute_result"
    }
   ],
   "source": [
    "def unique(li):\n",
    "    res=[]\n",
    "    [res.append(i) for i in li if i not in res]\n",
    "    return res\n",
    "\n",
    "unique([1,2,3,3,3,3,4,5])"
   ]
  },
  {
   "cell_type": "markdown",
   "metadata": {},
   "source": [
    "### Problem-2: Write a Python function that accepts a hyphen-separated sequence of words as parameter and returns the words in a hyphen-separated sequence after sorting them alphabetically.\n",
    "\n",
    "Example 1:\n",
    "\n",
    "Input:\n",
    "\n",
    "green-red-yellow-black-white\n",
    "\n",
    "Output:\n",
    "\n",
    "black-green-red-white-yellow"
   ]
  },
  {
   "cell_type": "code",
   "execution_count": 11,
   "metadata": {},
   "outputs": [
    {
     "name": "stdout",
     "output_type": "stream",
     "text": [
      "black-green-red-white-yellow\n"
     ]
    }
   ],
   "source": [
    "def sorted(string):\n",
    "    res=[]\n",
    "    [res.append(i) for i in string.split(\"-\")]\n",
    "    res.sort()\n",
    "    res=\"-\".join(res)\n",
    "    return res\n",
    "str1=\"green-red-yellow-black-white\"\n",
    "print(sorted(str1))\n"
   ]
  },
  {
   "cell_type": "markdown",
   "metadata": {},
   "source": [
    "Problem 3: Write a Python function that accepts a string and calculate the number of upper case letters and lower case letters.\n",
    "\n",
    "Sample String : 'CampusX is an Online Mentorship Program fOr EnginEering studentS.'\n",
    "\n",
    "Expected Output :\n",
    "\n",
    "No. of Upper case characters :  9\n",
    "\n",
    "No. of Lower case Characters :  47"
   ]
  },
  {
   "cell_type": "code",
   "execution_count": 14,
   "metadata": {},
   "outputs": [
    {
     "name": "stdout",
     "output_type": "stream",
     "text": [
      "No. of Upper case characters: 9\n",
      "No. of Lower case characters: 47\n"
     ]
    }
   ],
   "source": [
    "def countFormat(sample):\n",
    "    countUpper=0\n",
    "    countLower=0\n",
    "    for i in sample:\n",
    "        if i.isupper():\n",
    "            countUpper+=1\n",
    "        if i.islower():\n",
    "            countLower+=1\n",
    "    print(f\"No. of Upper case characters: {countUpper}\")\n",
    "    print(f\"No. of Lower case characters: {countLower}\")\n",
    "sample='CampusX is an Online Mentorship Program fOr EnginEering studentS.'\n",
    "countFormat(sample)"
   ]
  },
  {
   "cell_type": "markdown",
   "metadata": {},
   "source": [
    "Problem 4: Write a Python program to print the even numbers from a given list.\n",
    "\n",
    "Sample List : [1, 2, 3, 4, 5, 6, 7, 8, 9]\n",
    "\n",
    "Expected Result : [2, 4, 6, 8]"
   ]
  },
  {
   "cell_type": "code",
   "execution_count": 15,
   "metadata": {},
   "outputs": [
    {
     "name": "stdout",
     "output_type": "stream",
     "text": [
      "Sample List: [1, 2, 3, 4, 5, 6, 7, 8, 9]\n",
      "Expected Outcome: [2, 4, 6, 8]\n"
     ]
    }
   ],
   "source": [
    "def even(li):\n",
    "    res=[]\n",
    "    [res.append(i) for i in li if i%2==0]\n",
    "    return res\n",
    "\n",
    "li=[1,2,3,4,5,6,7,8,9]\n",
    "print(f\"Sample List: {li}\")\n",
    "print(f\"Expected Outcome: {even(li)}\")"
   ]
  },
  {
   "cell_type": "markdown",
   "metadata": {},
   "source": [
    "### **`Problem 5:`** Write a Python function to check whether a number is perfect or not.\n",
    "\n",
    "A Perfect number is a number that is half the sum of all of its positive divisors (including itself).\n",
    "\n",
    "Example : \n",
    "\n",
    "```\n",
    "The first perfect number is 6, because 1, 2, and 3 are its proper positive divisors, and 1 + 2 + 3 = 6. \n",
    "Equivalently, the number 6 is equal to half the sum of all its positive divisors: ( 1 + 2 + 3 + 6 ) / 2 = 6. \n",
    "\n",
    "The next perfect number is 28 = 1 + 2 + 4 + 7 + 14. This is followed by the perfect numbers 496 and 8128.\n",
    "```\n"
   ]
  },
  {
   "cell_type": "code",
   "execution_count": 27,
   "metadata": {},
   "outputs": [
    {
     "name": "stdout",
     "output_type": "stream",
     "text": [
      "8128 is a perfect number\n"
     ]
    }
   ],
   "source": [
    "def perfectNumber(num):\n",
    "    half = num//2\n",
    "    sum=0\n",
    "    for i in range(1,half+1):\n",
    "        if num%i==0:\n",
    "            sum+=i\n",
    "    if sum==num and (sum+num)/2==num:\n",
    "        print(f\"{num} is a perfect number\")\n",
    "    else:\n",
    "        print(f\"{num} is not a perfect number\")\n",
    "\n",
    "\n",
    "perfectNumber(8128)"
   ]
  },
  {
   "cell_type": "markdown",
   "metadata": {},
   "source": [
    "Problem-6: Write a Python function to concatenate any no of dictionaries to create a new one.\n",
    "\n",
    "Sample Dictionary :\n",
    "\n",
    "dic1={1:10, 2:20}\n",
    "\n",
    "dic2={3:30, 4:40}\n",
    "\n",
    "dic3={5:50,6:60}\n",
    "\n",
    "Expected Result : {1: 10, 2: 20, 3: 30, 4: 40, 5: 50, 6: 60}"
   ]
  },
  {
   "cell_type": "code",
   "execution_count": 33,
   "metadata": {},
   "outputs": [
    {
     "name": "stdout",
     "output_type": "stream",
     "text": [
      "{1: 10, 2: 20, 3: 30, 4: 40, 5: 50, 6: 60}\n"
     ]
    }
   ],
   "source": [
    "def condict(*kwargs):\n",
    "    d={}\n",
    "    {d.update(i) for i in kwargs}\n",
    "    return d\n",
    "dic1={1:10, 2:20}\n",
    "dic2={3:30, 4:40}\n",
    "dic3={5:50,6:60}\n",
    "print(condict(dic1,dic2,dic3))\n"
   ]
  },
  {
   "cell_type": "markdown",
   "metadata": {},
   "source": [
    "Problem-7 Write a python function that accepts a string as input and returns the word with most occurence.\n",
    "\n",
    "Input:\n",
    "\n",
    "hello how are you i am fine thank you\n",
    "\n",
    "Output\n",
    "\n",
    "you -> 2"
   ]
  },
  {
   "cell_type": "code",
   "execution_count": 2,
   "metadata": {},
   "outputs": [
    {
     "name": "stdout",
     "output_type": "stream",
     "text": [
      "you->3\n"
     ]
    }
   ],
   "source": [
    "import sys\n",
    "import math\n",
    "def mostOccurence(string):\n",
    "    res=\"\"\n",
    "    maxCount=-sys.maxsize+1\n",
    "    for i in string.split():\n",
    "        count = string.split().count(i)\n",
    "        if count>maxCount:\n",
    "            maxCount=count\n",
    "            res=i\n",
    "    print(f\"{res}->{maxCount}\")\n",
    "\n",
    "mostOccurence(\"hello how are you i am fine thank you you and\")"
   ]
  },
  {
   "cell_type": "markdown",
   "metadata": {},
   "source": [
    "Problem-8 Write a python function that receives a list of integers and prints out a histogram of bin size 10\n",
    "\n",
    "Input:\n",
    "\n",
    "[13,42,15,37,22,39,41,50]\n",
    "\n",
    "Output:\n",
    "\n",
    "{11-20:2,21-30:1,31-40:2,41-50:3}"
   ]
  },
  {
   "cell_type": "code",
   "execution_count": null,
   "metadata": {},
   "outputs": [],
   "source": [
    "def ma"
   ]
  },
  {
   "cell_type": "markdown",
   "metadata": {},
   "source": [
    "Problem-9 Write a python function that accepts a list of 2D co-ordinates and a query point, and then finds the the co-ordinate which is closest in terms of distance from the query point.\n",
    "\n",
    "List of Coordinates\n",
    "\n",
    "[(1,1),(2,2),(3,3),(4,4)]\n",
    "\n",
    "Query Point\n",
    "\n",
    "(0,0)\n",
    "\n",
    "Output\n",
    "\n",
    "Nearest to (0,0) is (1,1)"
   ]
  },
  {
   "cell_type": "code",
   "execution_count": 6,
   "metadata": {},
   "outputs": [
    {
     "name": "stdout",
     "output_type": "stream",
     "text": [
      "[1.4142135623730951, 2.8284271247461903, 4.242640687119285, 5.656854249492381]\n",
      "Nearest to (0, 0) is (1, 1)\n"
     ]
    }
   ],
   "source": [
    "import math\n",
    "def nearestPoint(li, query):\n",
    "    temp=[]\n",
    "    for i in li:\n",
    "        distance= math.sqrt((i[0]-query[0])**2 + (i[1]-query[1])**2)\n",
    "        temp.append(distance)\n",
    "    print(temp)\n",
    "    return li[temp.index(min(temp))]\n",
    "\n",
    "li,query=[(1,1),(2,2),(3,3),(4,4)], (0,0)\n",
    "print(f\"Nearest to {query} is {nearestPoint(li, query)}\")"
   ]
  },
  {
   "cell_type": "markdown",
   "metadata": {},
   "source": [
    "Problem-10:Write a python program that receives a list of strings and performs bag of word operation on those strings\n",
    "\n",
    "https://en.wikipedia.org/wiki/Bag-of-words_model\n"
   ]
  },
  {
   "cell_type": "code",
   "execution_count": 15,
   "metadata": {},
   "outputs": [
    {
     "name": "stdout",
     "output_type": "stream",
     "text": [
      "{'John': 1, 'likes': 2, 'to': 1, 'watch': 1, 'movies': 2, 'Mary': 1, 'too': 1}\n"
     ]
    }
   ],
   "source": [
    "def bow(string):\n",
    "    string=string.replace(\".\",\"\")\n",
    "    words = string.split()\n",
    "    res= dict((word, words.count(word)) for word in words)\n",
    "    return res\n",
    "\n",
    "print(bow(\"John likes to watch movies. Mary likes movies too.\"))"
   ]
  },
  {
   "cell_type": "markdown",
   "metadata": {},
   "source": [
    "Problem 11: Write a Python program to add three given lists using Python map and lambda."
   ]
  },
  {
   "cell_type": "code",
   "execution_count": 19,
   "metadata": {},
   "outputs": [
    {
     "name": "stdout",
     "output_type": "stream",
     "text": [
      "[12, 15, 18]\n",
      "[12, 15, 18]\n"
     ]
    }
   ],
   "source": [
    "def addList(l1, l2, l3):\n",
    "    print([x+y+z for x,y,z in zip(l1,l2,l3)]) #using list comprhension\n",
    "    return list(map(lambda x,y,z:x+y+z, l1,l2,l3)) #using map lambda\n",
    "list1 = [1, 2, 3]\n",
    "list2 = [4, 5, 6]\n",
    "list3 = [7, 8, 9]\n",
    "print(addList(list1,list2, list3))"
   ]
  },
  {
   "cell_type": "markdown",
   "metadata": {},
   "source": [
    "Problem-12:Write a Python program to create a list containing the power of said number in bases raised to the corresponding number in the index using Python map.\n",
    "\n",
    "Input:\n",
    "\n",
    "list1 = [1,2,3,4,5,6]\n",
    "\n",
    "Output:\n",
    "\n",
    "[1,2,9,64,625,-]"
   ]
  },
  {
   "cell_type": "code",
   "execution_count": 1,
   "metadata": {},
   "outputs": [
    {
     "name": "stdout",
     "output_type": "stream",
     "text": [
      "[1, 2, 9, 64, 625, 7776]\n"
     ]
    }
   ],
   "source": [
    "def powerIndex(l1):\n",
    "    return list(map(lambda x, i: x ** i, l1, range(len(l1))))\n",
    "\n",
    "list1 = [1, 2, 3, 4, 5, 6]\n",
    "print(powerIndex(list1))"
   ]
  },
  {
   "cell_type": "markdown",
   "metadata": {},
   "source": [
    "Problem-13 Using filter() and list() functions and .lower() method filter all the vowels in a given string.\n"
   ]
  },
  {
   "cell_type": "code",
   "execution_count": 6,
   "metadata": {},
   "outputs": [
    {
     "name": "stdout",
     "output_type": "stream",
     "text": [
      "['E', 'u', 'a', 'i', 'o', 'i', 'e', 'i', 'o', 'a']\n"
     ]
    }
   ],
   "source": [
    "def vowels(string):\n",
    "    vowel=\"aeiou\"\n",
    "    return list(filter(lambda x: x.lower() in vowel, string))\n",
    "\n",
    "print(vowels(\"Education is very important\"))"
   ]
  },
  {
   "cell_type": "markdown",
   "metadata": {},
   "source": [
    "Problem-14: Use reduce to convert a 2D list to 1D"
   ]
  },
  {
   "cell_type": "code",
   "execution_count": 13,
   "metadata": {},
   "outputs": [
    {
     "name": "stdout",
     "output_type": "stream",
     "text": [
      "[1, 2, 3, 4, 5, 6]\n"
     ]
    }
   ],
   "source": [
    "import functools\n",
    "def twoDto1D(li):\n",
    "    return list(functools.reduce(lambda x, y: x+y, li))\n",
    "\n",
    "list2D=[[1,2,3],[4,5,6]]\n",
    "print(twoDto1D(list2D))"
   ]
  },
  {
   "cell_type": "code",
   "execution_count": null,
   "metadata": {},
   "outputs": [],
   "source": []
  }
 ],
 "metadata": {
  "kernelspec": {
   "display_name": "Python 3",
   "language": "python",
   "name": "python3"
  },
  "language_info": {
   "codemirror_mode": {
    "name": "ipython",
    "version": 3
   },
   "file_extension": ".py",
   "mimetype": "text/x-python",
   "name": "python",
   "nbconvert_exporter": "python",
   "pygments_lexer": "ipython3",
   "version": "3.10.13"
  }
 },
 "nbformat": 4,
 "nbformat_minor": 2
}
