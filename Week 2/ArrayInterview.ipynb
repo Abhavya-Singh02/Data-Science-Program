{
 "cells": [
  {
   "cell_type": "code",
   "execution_count": 19,
   "metadata": {},
   "outputs": [
    {
     "name": "stdout",
     "output_type": "stream",
     "text": [
      "Subarray:\n",
      "-------------------------------\n",
      "-2 \n",
      "-2 1 \n",
      "-2 1 -3 \n",
      "-2 1 -3 4 \n",
      "-2 1 -3 4 -1 \n",
      "-2 1 -3 4 -1 2 \n",
      "-2 1 -3 4 -1 2 1 \n",
      "-2 1 -3 4 -1 2 1 -5 \n",
      "-2 1 -3 4 -1 2 1 -5 4 \n",
      "-------------------------------\n",
      "1 \n",
      "1 -3 \n",
      "1 -3 4 \n",
      "1 -3 4 -1 \n",
      "1 -3 4 -1 2 \n",
      "1 -3 4 -1 2 1 \n",
      "1 -3 4 -1 2 1 -5 \n",
      "1 -3 4 -1 2 1 -5 4 \n",
      "-------------------------------\n",
      "-3 \n",
      "-3 4 \n",
      "-3 4 -1 \n",
      "-3 4 -1 2 \n",
      "-3 4 -1 2 1 \n",
      "-3 4 -1 2 1 -5 \n",
      "-3 4 -1 2 1 -5 4 \n",
      "-------------------------------\n",
      "4 \n",
      "4 -1 \n",
      "4 -1 2 \n",
      "4 -1 2 1 \n",
      "4 -1 2 1 -5 \n",
      "4 -1 2 1 -5 4 \n",
      "-------------------------------\n",
      "-1 \n",
      "-1 2 \n",
      "-1 2 1 \n",
      "-1 2 1 -5 \n",
      "-1 2 1 -5 4 \n",
      "-------------------------------\n",
      "2 \n",
      "2 1 \n",
      "2 1 -5 \n",
      "2 1 -5 4 \n",
      "-------------------------------\n",
      "1 \n",
      "1 -5 \n",
      "1 -5 4 \n",
      "-------------------------------\n",
      "-5 \n",
      "-5 4 \n",
      "-------------------------------\n",
      "4 \n",
      "Maximum Subarray Sum:  6\n"
     ]
    }
   ],
   "source": [
    "# 10. Maximum sum subarray\n",
    "# 1st approach- Brute Force Approach\n",
    "import sys\n",
    "L = [-2, 1, -3, 4, -1, 2, 1, -5, 4]\n",
    "maxSum=-sys.maxsize\n",
    "print(\"Subarray:\")\n",
    "for i in range(len(L)):\n",
    "    print(\"-------------------------------\")\n",
    "\n",
    "    for j in range(i,len(L)):\n",
    "        sum=0\n",
    "        for k in range(i,j+1):\n",
    "            print(f\"{L[k]} \",end=\"\")\n",
    "            sum+=L[k]\n",
    "            maxSum = max(sum,maxSum)\n",
    "        print()\n",
    "print(\"Maximum Subarray Sum: \",maxSum)\n"
   ]
  },
  {
   "cell_type": "code",
   "execution_count": 108,
   "metadata": {},
   "outputs": [
    {
     "name": "stdout",
     "output_type": "stream",
     "text": [
      "-2,1,-3,4,-1,2,1,-5,4,\n",
      "1,-3,4,-1,2,1,-5,4,\n",
      "-3,4,-1,2,1,-5,4,\n",
      "4,-1,2,1,-5,4,\n",
      "-1,2,1,-5,4,\n",
      "2,1,-5,4,\n",
      "1,-5,4,\n",
      "-5,4,\n",
      "4,\n",
      "Maximum Subarray Sum:  6\n"
     ]
    }
   ],
   "source": [
    "#2nd approach- Better Approach\n",
    "L = [-2, 1, -3, 4, -1, 2, 1, -5, 4]\n",
    "maxSum=-sys.maxsize\n",
    "for i in range(len(L)):\n",
    "    sum=0\n",
    "    for j in range(i,len(L)):\n",
    "        print(L[j],end=\",\")\n",
    "        sum+=L[j]\n",
    "        maxSum=max(sum,maxSum)\n",
    "    print()\n",
    "print(\"Maximum Subarray Sum: \",maxSum)"
   ]
  },
  {
   "cell_type": "code",
   "execution_count": 32,
   "metadata": {},
   "outputs": [
    {
     "name": "stdout",
     "output_type": "stream",
     "text": [
      "Maximum Subarray Sum: \n",
      "[-2, 1, -3, 4, -1, 2, 1, -5, 4] : 6\n"
     ]
    }
   ],
   "source": [
    "#3rd approach- Kadane Algorithm (Optimal Approach)\n",
    "L = [-2, 1, -3, 4, -1, 2, 1, -5, 4]\n",
    "bestSeq=[]\n",
    "subarray=[]\n",
    "maxSum=-sys.maxsize+1\n",
    "sum=0\n",
    "for i in range(len(L)):\n",
    "    sum+=L[i]\n",
    "    subarray.append(L[i])\n",
    "    if sum>maxSum:\n",
    "        maxSum=sum\n",
    "        bestSeq=subarray\n",
    "    if sum<0:\n",
    "        sum=0\n",
    "print(\"Maximum Subarray Sum: \")\n",
    "print(bestSeq,\":\",maxSum)\n"
   ]
  },
  {
   "cell_type": "code",
   "execution_count": 4,
   "metadata": {},
   "outputs": [
    {
     "name": "stdout",
     "output_type": "stream",
     "text": [
      "5\n"
     ]
    }
   ],
   "source": [
    "# 9. Find element with left side smaller/right side greater in an array\n",
    "# 1-Brute Force \n",
    "L = [3,1,2,5,8,7,9]\n",
    "for i in range(1,len(L)-1):\n",
    "    flag=True\n",
    "    for j in range(0,i):\n",
    "        if L[j]>L[i]:\n",
    "            flag=False\n",
    "    for k in range(i+1,len(L)):\n",
    "        if L[k]<L[i]:\n",
    "            flag=False\n",
    "    if flag:\n",
    "        print(L[i])\n",
    "\n",
    "        "
   ]
  },
  {
   "cell_type": "code",
   "execution_count": 6,
   "metadata": {},
   "outputs": [
    {
     "name": "stdout",
     "output_type": "stream",
     "text": [
      "5\n"
     ]
    }
   ],
   "source": [
    "# 2nd approach using pythonic syntax\n",
    "for i in range(1,len(L)-1):\n",
    "    if max(L[:i])<L[i]<min(L[i+1:]):\n",
    "        print(L[i])"
   ]
  },
  {
   "cell_type": "code",
   "execution_count": 16,
   "metadata": {},
   "outputs": [
    {
     "name": "stdout",
     "output_type": "stream",
     "text": [
      "[3, 3, 3, 5, 8, 8, 9]\n",
      "[1, 1, 2, 5, 7, 7, 9]\n",
      "5\n"
     ]
    }
   ],
   "source": [
    "# 3rd Approach using auxilliary arrays\n",
    "leftMax=[]\n",
    "rightMin=[]\n",
    "\n",
    "maxValue=L[0]\n",
    "minValue=L[-1]\n",
    "\n",
    "for i in range(0,len(L)):\n",
    "    maxValue=max(maxValue, L[i])\n",
    "    leftMax.append(maxValue)\n",
    "for i in range(len(L)-1,-1,-1):\n",
    "    minValue=min(minValue,L[i])\n",
    "    rightMin.insert(0,minValue)\n",
    "\n",
    "print(leftMax)\n",
    "print(rightMin)\n",
    "\n",
    "for i in range(1,len(L)-1):\n",
    "    if leftMax[i-1]<L[i]<rightMin[i+1]:\n",
    "        print(L[i])\n",
    "        break"
   ]
  },
  {
   "cell_type": "code",
   "execution_count": 13,
   "metadata": {},
   "outputs": [
    {
     "name": "stdout",
     "output_type": "stream",
     "text": [
      "Element found: 5\n"
     ]
    }
   ],
   "source": [
    "L = [3, 1, 2, 5, 8, 7, 9]\n",
    "\n",
    "# Step 1: Create auxiliary arrays\n",
    "leftMax = []\n",
    "rightMin = [0] * len(L)\n",
    "\n",
    "maxValue = L[0]\n",
    "minValue = L[-1]\n",
    "\n",
    "# Build leftMax array\n",
    "for i in range(len(L)):\n",
    "    maxValue = max(maxValue, L[i])\n",
    "    leftMax.append(maxValue)\n",
    "\n",
    "# Build rightMin array (starting from the end)\n",
    "for i in range(len(L)-1, -1, -1):\n",
    "    minValue = min(minValue, L[i])\n",
    "    rightMin[i] = minValue\n",
    "\n",
    "# Step 2: Find the element that satisfies the condition\n",
    "for i in range(1, len(L)-1):\n",
    "    if leftMax[i-1] < L[i] < rightMin[i+1]:\n",
    "        print(\"Element found:\", L[i])\n",
    "        break\n",
    "else:\n",
    "    print(\"No such element found\")\n"
   ]
  },
  {
   "cell_type": "code",
   "execution_count": 4,
   "metadata": {},
   "outputs": [
    {
     "name": "stdout",
     "output_type": "stream",
     "text": [
      "[1, 22, 13, 7, 9, 11]\n",
      "\n",
      "\n",
      "\n",
      "\n",
      "\n",
      "\n",
      "\n"
     ]
    }
   ],
   "source": [
    "# 8. Find continous subarray with a given sum(given non-negative numbers)\n",
    "# return the starting and ending index of the subarray\n",
    "# return 1st subarray in case of multiple\n",
    "\n",
    "L = [1,22,13,7,9,11,10]\n",
    "S = 63\n",
    "for i in range(0,len(L)):\n",
    "    subarray=[]\n",
    "    for j in range(i,len(L)):\n",
    "        subarray.append(L[j])\n",
    "        if sum(subarray)==S:\n",
    "            print(subarray)\n",
    "    print()\n"
   ]
  },
  {
   "cell_type": "code",
   "execution_count": 5,
   "metadata": {},
   "outputs": [
    {
     "name": "stdout",
     "output_type": "stream",
     "text": [
      "0 1 2 3 4 5 6 "
     ]
    }
   ],
   "source": [
    "#optimal \n",
    "L = [1,22,13,7,9,11,10]\n",
    "\n",
    "S = 63\n",
    "left=0\n",
    "right=0\n",
    "curr=0\n",
    "\n",
    "while(right<len(L)):\n",
    "    curr+=L[right]\n",
    "    if curr>S:\n",
    "        curr-=L[left]\n",
    "        left+=1\n",
    "    if curr==S:\n",
    "        index=right-left+1\n",
    "        break\n",
    "    right+=1\n",
    "    \n",
    "for i in range(left,index+1):\n",
    "    print(i,end=\" \")\n",
    "    "
   ]
  },
  {
   "cell_type": "code",
   "execution_count": 6,
   "metadata": {},
   "outputs": [
    {
     "name": "stdout",
     "output_type": "stream",
     "text": [
      "3 8 "
     ]
    }
   ],
   "source": [
    "# 7. Find intersection of 2 sorted arrays\n",
    "# brute force\n",
    "\n",
    "a = [1,2,3,4,5,8]\n",
    "b = [3,6,7,8]\n",
    "for i in a:\n",
    "    if i in b:\n",
    "        print(i,end=\" \")"
   ]
  },
  {
   "cell_type": "code",
   "execution_count": 7,
   "metadata": {},
   "outputs": [
    {
     "name": "stdout",
     "output_type": "stream",
     "text": [
      "3\n",
      "8\n"
     ]
    }
   ],
   "source": [
    "#2nd approach - optimal\n",
    "a = [1,2,3,4,5,8]\n",
    "b = [3,6,7,8]\n",
    "\n",
    "i=j=0\n",
    "\n",
    "while i<len(a) and j<len(b):\n",
    "  if a[i] == b[j]:\n",
    "    print(a[i])\n",
    "    i+=1\n",
    "    j+=1\n",
    "  elif a[i] > b[j]:\n",
    "    j+=1\n",
    "  else:\n",
    "    i+=1"
   ]
  },
  {
   "cell_type": "code",
   "execution_count": 17,
   "metadata": {},
   "outputs": [
    {
     "name": "stdout",
     "output_type": "stream",
     "text": [
      "[3, 4, 5, 1, 2]\n"
     ]
    }
   ],
   "source": [
    "# 6. Rotate array to left d items\n",
    "# 1st approach brute force\n",
    "L = [1,2,3,4,5]\n",
    "rotate = 2\n",
    "rotate=rotate%len(L)\n",
    "temp=[]\n",
    "\n",
    "for i in range(rotate):\n",
    "    temp.append(L[i])\n",
    "\n",
    "j=0\n",
    "for i in range(rotate, len(L)):\n",
    "    L[j]=L[i]\n",
    "    j+=1\n",
    "k=0\n",
    "for i in range(len(L)-rotate,len(L)):\n",
    "    L[i]=temp[k]\n",
    "    k+=1\n",
    "\n",
    "print(L)\n",
    "\n",
    "# time complexity=O(n)\n",
    "# space complexity=O(n)"
   ]
  },
  {
   "cell_type": "code",
   "execution_count": 19,
   "metadata": {},
   "outputs": [
    {
     "name": "stdout",
     "output_type": "stream",
     "text": [
      "[3, 4, 5, 1, 2]\n"
     ]
    }
   ],
   "source": [
    "# 2nd approach - optimal\n",
    "L = [1,2,3,4,5]\n",
    "rotate = 2\n",
    "def rotateArray(L,rotate):\n",
    "    reverse(L, 0, rotate-1)\n",
    "    reverse(L,rotate, len(L)-1)\n",
    "    reverse(L,0,len(L)-1)\n",
    "\n",
    "def reverse(L, start, end):\n",
    "    while(start<=end):\n",
    "        temp = L[start]\n",
    "        L[start]=L[end]\n",
    "        L[end]=temp\n",
    "        start+=1\n",
    "        end-=1\n",
    "\n",
    "rotateArray(L,rotate)\n",
    "print(L)"
   ]
  },
  {
   "cell_type": "code",
   "execution_count": 76,
   "metadata": {},
   "outputs": [
    {
     "name": "stdout",
     "output_type": "stream",
     "text": [
      "{8, 1, 4, 5}\n"
     ]
    }
   ],
   "source": [
    "# 5. Find duplicates in an array\n",
    "# brute force\n",
    "L = [1,1,2,3,4,4,5,5,8,8,10]\n",
    "duplicate=set()\n",
    "unique=set()\n",
    "for i in L:\n",
    "    if i not in unique:\n",
    "        unique.add(i)\n",
    "    else:\n",
    "        duplicate.add(i)\n",
    "print(duplicate)"
   ]
  },
  {
   "cell_type": "code",
   "execution_count": 77,
   "metadata": {},
   "outputs": [
    {
     "name": "stdout",
     "output_type": "stream",
     "text": [
      "7\n",
      "[1, 2, 3, 4, 5, 8, 10]\n"
     ]
    }
   ],
   "source": [
    "# 2 pointer approach\n",
    "i = 0\n",
    "for j in range(1,len(L)):\n",
    "    if L[i] != L[j]:\n",
    "        i += 1\n",
    "        L[i] = L[j]\n",
    "print(i+1)\n",
    "print(L[:i+1])"
   ]
  },
  {
   "cell_type": "code",
   "execution_count": 81,
   "metadata": {},
   "outputs": [
    {
     "name": "stdout",
     "output_type": "stream",
     "text": [
      "4\n"
     ]
    }
   ],
   "source": [
    "# 4. Find the first element to occur k times in an array\n",
    "\n",
    "L = [4,1,1,2,3,4,4,5,5]\n",
    "k=3\n",
    "count=1\n",
    "i=0\n",
    "for j in range(1,len(L)):\n",
    "    if L[i]==L[j]:\n",
    "        count+=1\n",
    "        if count==k:\n",
    "            print(L[i])\n",
    "    i+=1\n"
   ]
  },
  {
   "cell_type": "code",
   "execution_count": 91,
   "metadata": {},
   "outputs": [
    {
     "name": "stdout",
     "output_type": "stream",
     "text": [
      "2\n"
     ]
    }
   ],
   "source": [
    "L = [4,1,1,2,3,4,4,5,5]\n",
    "k=1\n",
    "d={}\n",
    "isFound=False\n",
    "for i in L:\n",
    "    if i in d:\n",
    "        d[i]=d[i]+1\n",
    "    else:\n",
    "        d[i]=1\n",
    "\n",
    "for i in d:\n",
    "    if d[i]==k:\n",
    "        print(i)\n",
    "        isFound=True\n",
    "        break\n",
    "if not isFound:\n",
    "    print(\"Not found\")"
   ]
  },
  {
   "cell_type": "code",
   "execution_count": 97,
   "metadata": {},
   "outputs": [
    {
     "name": "stdout",
     "output_type": "stream",
     "text": [
      "54 1\n"
     ]
    }
   ],
   "source": [
    "# 3. Find Min/Max in a given array\n",
    "\n",
    "import sys\n",
    "L = [21,1,34,23,54,11,10]\n",
    "maxNum=-sys.maxsize\n",
    "minNum=sys.maxsize\n",
    "for i in L:\n",
    "    maxNum=max(maxNum,i)\n",
    "    minNum=min(minNum,i)\n",
    "\n",
    "print(maxNum,minNum)"
   ]
  },
  {
   "cell_type": "code",
   "execution_count": 100,
   "metadata": {},
   "outputs": [
    {
     "name": "stdout",
     "output_type": "stream",
     "text": [
      "Not Sorted\n"
     ]
    }
   ],
   "source": [
    "# 2. Check if an array is sorted\n",
    "L = [1,2,3,4,5]\n",
    "isSorted=True   \n",
    "for i in range(len(L)-1):\n",
    "    if L[i]>L[i+1]:\n",
    "        isSorted=False\n",
    "if isSorted:\n",
    "    print(\"Sorted\")\n",
    "else:\n",
    "    print(\"Not Sorted\")"
   ]
  },
  {
   "cell_type": "code",
   "execution_count": 104,
   "metadata": {},
   "outputs": [
    {
     "name": "stdout",
     "output_type": "stream",
     "text": [
      "[1, 3, 4, 12, 22, 23, 34, 56]\n",
      "kth(3) Smallest element: 4\n",
      "kth(3) Greatest element: 23\n"
     ]
    }
   ],
   "source": [
    "# 1. Find the kth largest/smallest item from a list\n",
    "L = [12,23,1,4,56,34,22,3]\n",
    "k=3\n",
    "L.sort()\n",
    "print(L)\n",
    "print(f\"kth({k}) Smallest element: {L[k-1]}\")\n",
    "L.sort(reverse=True)\n",
    "print(f\"kth({k}) Greatest element: {L[k-1]}\")"
   ]
  },
  {
   "cell_type": "code",
   "execution_count": 111,
   "metadata": {},
   "outputs": [
    {
     "name": "stdout",
     "output_type": "stream",
     "text": [
      "[0, 0, 0, 1, 1, 1, 1]\n"
     ]
    }
   ],
   "source": [
    "# sort th array of item 0 and 1\n",
    "arr = [1, 0, 1, 0, 1, 0, 1]\n",
    "count0=arr.count(0)\n",
    "count1=arr.count(1)\n",
    "for i in range(0,count0):\n",
    "    arr[i]=0\n",
    "for i in range(count0,len(arr)):\n",
    "    arr[i]=1\n",
    "print(arr)"
   ]
  },
  {
   "cell_type": "code",
   "execution_count": 117,
   "metadata": {},
   "outputs": [
    {
     "name": "stdout",
     "output_type": "stream",
     "text": [
      "[12, 1, 4, 34, 3, -23, -22, -56]\n"
     ]
    }
   ],
   "source": [
    "# 12. Move all -ve numbers to the end\n",
    "L = [12,-23,1,4,-56,34,-22,3]\n",
    "posIdx=0\n",
    "for curr in range(len(L)):\n",
    "    if L[curr]>0:\n",
    "        L[posIdx], L[curr] = L[curr], L[posIdx]\n",
    "        posIdx += 1\n",
    "print(L)\n"
   ]
  },
  {
   "cell_type": "code",
   "execution_count": 122,
   "metadata": {},
   "outputs": [
    {
     "name": "stdout",
     "output_type": "stream",
     "text": [
      "[-2, 1, -3, 4, -1, 2, 1, -5, 4] : 4\n"
     ]
    }
   ],
   "source": [
    "# 13. Maximum Product Subarray\n",
    "#3rd approach- Kadane Algorithm (Optimal Approach)\n",
    "L = [-2, 1, -3, 4, -1, 2, 1, -5, 4]\n",
    "maxProduct=0\n",
    "subarray=[]\n",
    "bestSeq=[]\n",
    "product=1\n",
    "for i in L:\n",
    "    subarray.append(i)\n",
    "    product*=i\n",
    "    if maxProduct<product:\n",
    "        maxProduct=product\n",
    "        bestSeq=subarray\n",
    "    if product<0:\n",
    "        product=1\n",
    "print(bestSeq,\":\",maxProduct)"
   ]
  },
  {
   "cell_type": "code",
   "execution_count": 124,
   "metadata": {},
   "outputs": [
    {
     "name": "stdout",
     "output_type": "stream",
     "text": [
      "-2,1,-3,4,-1,2,1,-5,4,\n",
      "1,-3,4,-1,2,1,-5,4,\n",
      "-3,4,-1,2,1,-5,4,\n",
      "4,-1,2,1,-5,4,\n",
      "-1,2,1,-5,4,\n",
      "2,1,-5,4,\n",
      "1,-5,4,\n",
      "-5,4,\n",
      "4,\n",
      "Maximum Subarray Sum:  960\n"
     ]
    }
   ],
   "source": [
    "#2nd approach- Better Approach\n",
    "L = [-2, 1, -3, 4, -1, 2, 1, -5, 4]\n",
    "maxSum=-sys.maxsize\n",
    "for i in range(len(L)):\n",
    "    sum=1\n",
    "    for j in range(i,len(L)):\n",
    "        print(L[j],end=\",\")\n",
    "        sum*=L[j]\n",
    "        maxSum=max(sum,maxSum)\n",
    "    print()\n",
    "print(\"Maximum Subarray Sum: \",maxSum)"
   ]
  },
  {
   "cell_type": "code",
   "execution_count": 125,
   "metadata": {},
   "outputs": [
    {
     "name": "stdout",
     "output_type": "stream",
     "text": [
      "[[5, 12, 13], [6, 8, 10], [3, 4, 5]]\n"
     ]
    }
   ],
   "source": [
    "def find_pythagorean_triplets(arr):\n",
    "    # Step 1: Square each element\n",
    "    squared = [x * x for x in arr]\n",
    "    \n",
    "    # Step 2: Sort the squared list\n",
    "    squared.sort()\n",
    "    \n",
    "    # Create a set of squared values for quick look-up\n",
    "    squared_set = set(squared)\n",
    "    \n",
    "    triplets = []\n",
    "    \n",
    "    # Step 3: Find triplets\n",
    "    n = len(squared)\n",
    "    for i in range(n - 1, 1, -1):\n",
    "        c2 = squared[i]\n",
    "        for j in range(i):\n",
    "            a2 = squared[j]\n",
    "            b2 = c2 - a2\n",
    "            if b2 in squared_set and b2 != a2:\n",
    "                # Find b such that b^2 = b2\n",
    "                b = int(b2 ** 0.5)\n",
    "                if b * b == b2 and b != arr[j]:\n",
    "                    triplet = sorted([int(a2 ** 0.5), int(b2 ** 0.5), int(c2 ** 0.5)])\n",
    "                    if triplet not in triplets:\n",
    "                        triplets.append(triplet)\n",
    "    \n",
    "    return triplets\n",
    "\n",
    "arr = [3, 4, 5, 6, 8, 10, 12, 13]\n",
    "triplets = find_pythagorean_triplets(arr)\n",
    "print(triplets)\n"
   ]
  },
  {
   "cell_type": "code",
   "execution_count": null,
   "metadata": {},
   "outputs": [],
   "source": []
  }
 ],
 "metadata": {
  "kernelspec": {
   "display_name": "Python 3",
   "language": "python",
   "name": "python3"
  },
  "language_info": {
   "codemirror_mode": {
    "name": "ipython",
    "version": 3
   },
   "file_extension": ".py",
   "mimetype": "text/x-python",
   "name": "python",
   "nbconvert_exporter": "python",
   "pygments_lexer": "ipython3",
   "version": "3.10.13"
  }
 },
 "nbformat": 4,
 "nbformat_minor": 2
}
