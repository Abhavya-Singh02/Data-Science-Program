{
 "cells": [
  {
   "cell_type": "code",
   "execution_count": 19,
   "metadata": {},
   "outputs": [
    {
     "name": "stdout",
     "output_type": "stream",
     "text": [
      "Subarray:\n",
      "-------------------------------\n",
      "-2 \n",
      "-2 1 \n",
      "-2 1 -3 \n",
      "-2 1 -3 4 \n",
      "-2 1 -3 4 -1 \n",
      "-2 1 -3 4 -1 2 \n",
      "-2 1 -3 4 -1 2 1 \n",
      "-2 1 -3 4 -1 2 1 -5 \n",
      "-2 1 -3 4 -1 2 1 -5 4 \n",
      "-------------------------------\n",
      "1 \n",
      "1 -3 \n",
      "1 -3 4 \n",
      "1 -3 4 -1 \n",
      "1 -3 4 -1 2 \n",
      "1 -3 4 -1 2 1 \n",
      "1 -3 4 -1 2 1 -5 \n",
      "1 -3 4 -1 2 1 -5 4 \n",
      "-------------------------------\n",
      "-3 \n",
      "-3 4 \n",
      "-3 4 -1 \n",
      "-3 4 -1 2 \n",
      "-3 4 -1 2 1 \n",
      "-3 4 -1 2 1 -5 \n",
      "-3 4 -1 2 1 -5 4 \n",
      "-------------------------------\n",
      "4 \n",
      "4 -1 \n",
      "4 -1 2 \n",
      "4 -1 2 1 \n",
      "4 -1 2 1 -5 \n",
      "4 -1 2 1 -5 4 \n",
      "-------------------------------\n",
      "-1 \n",
      "-1 2 \n",
      "-1 2 1 \n",
      "-1 2 1 -5 \n",
      "-1 2 1 -5 4 \n",
      "-------------------------------\n",
      "2 \n",
      "2 1 \n",
      "2 1 -5 \n",
      "2 1 -5 4 \n",
      "-------------------------------\n",
      "1 \n",
      "1 -5 \n",
      "1 -5 4 \n",
      "-------------------------------\n",
      "-5 \n",
      "-5 4 \n",
      "-------------------------------\n",
      "4 \n",
      "Maximum Subarray Sum:  6\n"
     ]
    }
   ],
   "source": [
    "# 10. Maximum sum subarray\n",
    "# 1st approach- Brute Force Approach\n",
    "import sys\n",
    "L = [-2, 1, -3, 4, -1, 2, 1, -5, 4]\n",
    "maxSum=-sys.maxsize\n",
    "print(\"Subarray:\")\n",
    "for i in range(len(L)):\n",
    "    print(\"-------------------------------\")\n",
    "\n",
    "    for j in range(i,len(L)):\n",
    "        sum=0\n",
    "        for k in range(i,j+1):\n",
    "            print(f\"{L[k]} \",end=\"\")\n",
    "            sum+=L[k]\n",
    "            maxSum = max(sum,maxSum)\n",
    "        print()\n",
    "print(\"Maximum Subarray Sum: \",maxSum)\n"
   ]
  },
  {
   "cell_type": "code",
   "execution_count": 29,
   "metadata": {},
   "outputs": [
    {
     "name": "stdout",
     "output_type": "stream",
     "text": [
      "-2,1,-3,4,-1,2,1,-5,4,\n",
      "1,-3,4,-1,2,1,-5,4,\n",
      "-3,4,-1,2,1,-5,4,\n",
      "4,-1,2,1,-5,4,\n",
      "-1,2,1,-5,4,\n",
      "2,1,-5,4,\n",
      "1,-5,4,\n",
      "-5,4,\n",
      "4,\n",
      "Maximum Subarray Sum:  6\n"
     ]
    }
   ],
   "source": [
    "#2nd approach- Better Approach\n",
    "L = [-2, 1, -3, 4, -1, 2, 1, -5, 4]\n",
    "maxSum=-sys.maxsize\n",
    "for i in range(len(L)):\n",
    "    sum=0\n",
    "    for j in range(i,len(L)):\n",
    "        print(L[j],end=\",\")\n",
    "        sum+=L[j]\n",
    "        maxSum=max(sum,maxSum)\n",
    "    print()\n",
    "print(\"Maximum Subarray Sum: \",maxSum)"
   ]
  },
  {
   "cell_type": "code",
   "execution_count": 31,
   "metadata": {},
   "outputs": [
    {
     "name": "stdout",
     "output_type": "stream",
     "text": [
      "Maximum Subarray Sum:  6\n"
     ]
    }
   ],
   "source": [
    "#3rd approach- Kadane Algorithm (Optimal Approach)\n",
    "L = [-2, 1, -3, 4, -1, 2, 1, -5, 4]\n",
    "maxSum=-sys.maxsize+1\n",
    "sum=0\n",
    "for i in range(len(L)):\n",
    "    sum+=L[i]\n",
    "    maxSum=max(maxSum,sum)\n",
    "    if sum<0:\n",
    "        sum=0\n",
    "print(\"Maximum Subarray Sum: \",maxSum)\n"
   ]
  },
  {
   "cell_type": "code",
   "execution_count": null,
   "metadata": {},
   "outputs": [],
   "source": []
  }
 ],
 "metadata": {
  "kernelspec": {
   "display_name": "Python 3",
   "language": "python",
   "name": "python3"
  },
  "language_info": {
   "codemirror_mode": {
    "name": "ipython",
    "version": 3
   },
   "file_extension": ".py",
   "mimetype": "text/x-python",
   "name": "python",
   "nbconvert_exporter": "python",
   "pygments_lexer": "ipython3",
   "version": "3.10.13"
  }
 },
 "nbformat": 4,
 "nbformat_minor": 2
}
