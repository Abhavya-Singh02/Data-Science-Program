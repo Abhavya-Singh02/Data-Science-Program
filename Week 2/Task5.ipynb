{
 "cells": [
  {
   "cell_type": "markdown",
   "metadata": {},
   "source": [
    "### `Q1:` Join Tuples if similar initial element\n",
    "While working with Python tuples, we can have a problem in which we need to perform concatenation of records from the similarity of initial element. This problem can have applications in data domains such as Data Science.\n",
    "\n",
    "For eg.\n",
    "```\n",
    "Input  : test_list = [(5, 6), (5, 7), (5, 8), (6, 10), (7, 13)] \n",
    "Output : [(5, 6, 7, 8), (6, 10), (7, 13)] \n",
    "```"
   ]
  },
  {
   "cell_type": "code",
   "execution_count": 2,
   "metadata": {},
   "outputs": [
    {
     "name": "stdout",
     "output_type": "stream",
     "text": [
      "(5, 6)\n",
      "(5, 7)\n",
      "(5, 8)\n",
      "(6, 10)\n",
      "(7, 13)\n"
     ]
    }
   ],
   "source": [
    "test_list = [(5, 6), (5, 7), (5, 8), (6, 10), (7, 13)] \n",
    "for i in  test_list:\n",
    "    print(i)"
   ]
  },
  {
   "cell_type": "markdown",
   "metadata": {},
   "source": [
    "### Q2: Multiply Adjacent elements (both side) and take sum of right and lest side multiplication result.\n",
    "For eg.\n",
    "\n",
    "The original tuple : (1, 5, 7, 8, 10)\n",
    "Resultant tuple after multiplication : \n",
    "\n",
    "(1*5, 1*5+5*7, 7*5 + 7*8, 8*7 + 8*10, 10*8) -> (5, 40, 91, 136, 80)\n",
    "\n",
    "output-(5, 40, 91, 136, 80)"
   ]
  },
  {
   "cell_type": "code",
   "execution_count": 8,
   "metadata": {},
   "outputs": [
    {
     "name": "stdout",
     "output_type": "stream",
     "text": [
      "[5, 35, 280, 560, 80]\n"
     ]
    }
   ],
   "source": [
    "tuplex = (1, 5, 7, 8,10)\n",
    "res = []\n",
    "size = len(tuplex)\n",
    "\n",
    "for i in range(size):\n",
    "    if i == 0:  # First element\n",
    "        res.append(tuplex[i] * tuplex[i + 1])\n",
    "    elif i == size - 1:  # Last element\n",
    "        res.append(tuplex[i] * tuplex[i - 1])\n",
    "    else:  # Middle elements\n",
    "        res.append(tuplex[i - 1] * tuplex[i] * tuplex[i + 1])\n",
    "\n",
    "print(res)\n"
   ]
  },
  {
   "cell_type": "markdown",
   "metadata": {},
   "source": [
    "Q3: Check is tuples are same or not?\n",
    "\n",
    "Two tuples would be same if both tuples have same element at same index\n",
    "\n",
    "t1 = (1,2,3,0)\n",
    "\n",
    "t2 = (0,1,2,3)\n",
    "\n",
    "t1 and t2 are not same"
   ]
  },
  {
   "cell_type": "code",
   "execution_count": 11,
   "metadata": {},
   "outputs": [
    {
     "name": "stdout",
     "output_type": "stream",
     "text": [
      "t1 and t2 are not same\n"
     ]
    }
   ],
   "source": [
    "t1 = (1,2,3,0)\n",
    "t2 = (0,1,2,3)\n",
    "isSame=True\n",
    "for i in t1:\n",
    "    if t1[i]!=t2[i]:\n",
    "        print(\"t1 and t2 are not same\")\n",
    "        isSame=False\n",
    "        break\n",
    "if isSame:\n",
    "    print(\"t1 and t2 are same\")"
   ]
  },
  {
   "cell_type": "markdown",
   "metadata": {},
   "source": [
    "### Q4: Count no of tuples, list and set from a list\n",
    "list1 = [{'hi', 'bye'},{'Geeks', 'forGeeks'},('a', 'b'),['hi', 'bye'],['a', 'b']]\n",
    "Output:\n",
    "\n",
    "List-2\n",
    "Set-2\n",
    "Tuples-1"
   ]
  },
  {
   "cell_type": "code",
   "execution_count": 14,
   "metadata": {},
   "outputs": [
    {
     "name": "stdout",
     "output_type": "stream",
     "text": [
      "List- 2\n",
      "Tuple- 1\n",
      "Set-2\n"
     ]
    }
   ],
   "source": [
    "list1 = [{'hi', 'bye'},{'Geeks', 'forGeeks'},('a', 'b'),['hi', 'bye'],['a', 'b']]\n",
    "output=[0,0,0]\n",
    "for item in list1:\n",
    "    if type(item)==list:\n",
    "        output[0]=output[0]+1\n",
    "    if type(item)==tuple:\n",
    "        output[1]=output[1]+1\n",
    "    if type(item)==set:\n",
    "        output[2]=output[2]+1\n",
    "print(f\"List- {output[0]}\\nTuple- {output[1]}\\nSet-{output[2]}\")"
   ]
  },
  {
   "cell_type": "markdown",
   "metadata": {},
   "source": [
    "Q5: Shortlist Students for a Job role\n",
    "\n",
    "Ask user to input students record and store in tuples for each record. Then Ask user to input three things he wants in the candidate- Primary Skill, Higher Education, Year of Graduation.\n",
    "\n",
    "Show every students record in form of tuples if matches all required criteria.\n",
    "\n",
    "It is assumed that there will be only one primry skill.\n",
    "\n",
    "If no such candidate found, print No such candidate\n",
    "\n",
    "Input:\n",
    "\n",
    "Enter No of records- 2\n",
    "\n",
    "Enter Details of student-1\n",
    "\n",
    "Enter Student name- Manohar\n",
    "\n",
    "Enter Higher Education- B.Tech\n",
    "\n",
    "Enter Primary Skill- Python\n",
    "\n",
    "Enter Year of Graduation- 2022\n",
    "\n",
    "Enter Details of student-2\n",
    "\n",
    "Enter Student name- Ponian\n",
    "\n",
    "Enter Higher Education- B.Sc.\n",
    "\n",
    "Enter Primary Skill- C++\n",
    "\n",
    "Enter Year of Graduation- 2020\n",
    "\n",
    "Enter Job Role Requirement\n",
    "\n",
    "Enter Skill- Python\n",
    "\n",
    "Enter Higher Education- B.Tech\n",
    "\n",
    "Enter Year of Graduation- 2022\n",
    "\n",
    "Output\n",
    "\n",
    "('Manohar', 'B.tech', 'Python', '2022')"
   ]
  },
  {
   "cell_type": "code",
   "execution_count": 6,
   "metadata": {},
   "outputs": [
    {
     "name": "stdout",
     "output_type": "stream",
     "text": [
      "Student 1\n",
      "Job Requirement\n",
      "Matching candidates:\n",
      "('1', 'a', 'b', 'p', '2')\n"
     ]
    }
   ],
   "source": [
    "n = int(input(\"Enter number of records: \"))\n",
    "students = []\n",
    "\n",
    "# Collecting student records\n",
    "for i in range(n):\n",
    "    print(f\"Student {i+1}\")\n",
    "    student_id = input(\"Enter Student ID: \")\n",
    "    student_name = input(\"Enter Student Name: \")\n",
    "    education = input(\"Enter Higher Education: \")\n",
    "    primary_skill = input(\"Enter Primary Skill: \")\n",
    "    graduation_year = input(\"Enter Graduation Year: \")\n",
    "    students.append((student_id, student_name, education, primary_skill, graduation_year))\n",
    "\n",
    "# Collecting job requirements\n",
    "print(\"Job Requirement\")\n",
    "required_skill = input(\"Enter Skill: \")\n",
    "required_education = input(\"Enter Higher Education: \")\n",
    "required_graduation_year = input(\"Enter Graduation Year: \")\n",
    "\n",
    "# Matching students to job requirements\n",
    "matching_students = []\n",
    "\n",
    "for student in students:\n",
    "    if (student[2] == required_education and\n",
    "        student[3] == required_skill and\n",
    "        student[4] == required_graduation_year):\n",
    "        matching_students.append(student)\n",
    "\n",
    "# Output results\n",
    "if matching_students:\n",
    "    print(\"Matching candidates:\")\n",
    "    for match in matching_students:\n",
    "        print(match)\n",
    "else:\n",
    "    print(\"No such candidate\")\n",
    "\n"
   ]
  },
  {
   "cell_type": "markdown",
   "metadata": {},
   "source": [
    "Set\n",
    "Q1: Write a program to find set of common elements in three lists using sets.\n",
    "\n",
    "Input : ar1 = [1, 5, 10, 20, 40, 80]\n",
    "\n",
    "        ar2 = [6, 7, 20, 80, 100]\n",
    "        \n",
    "        ar3 = [3, 4, 15, 20, 30, 70, 80, 120]\n",
    "\n",
    "Output : [80, 20]"
   ]
  },
  {
   "cell_type": "code",
   "execution_count": 7,
   "metadata": {},
   "outputs": [
    {
     "name": "stdout",
     "output_type": "stream",
     "text": [
      "{80, 20}\n"
     ]
    }
   ],
   "source": [
    "ar1 = [1, 5, 10, 20, 40, 80]\n",
    "ar2 = [6, 7, 20, 80, 100]\n",
    "ar3 = [3, 4, 15, 20, 30, 70, 80, 120]\n",
    "print(set(ar1).intersection(set(ar2).intersection(ar3)))"
   ]
  },
  {
   "cell_type": "markdown",
   "metadata": {},
   "source": [
    "Q2: Write a program to count unique number of vowels using sets in a given string. Lowercase and upercase vowels will be taken as different.\n",
    "\n",
    "Input:\n",
    "\n",
    "Str1 = \"hands-on data science mentorship progrAm with live classes at affordable fee only on CampusX\"\n",
    "Output:\n",
    "\n",
    "No of unique vowels-6"
   ]
  },
  {
   "cell_type": "code",
   "execution_count": 9,
   "metadata": {},
   "outputs": [
    {
     "name": "stdout",
     "output_type": "stream",
     "text": [
      "No of unique vowles-6\n"
     ]
    }
   ],
   "source": [
    "Str1 = \"hands-on data science mentorship progrAm with live classes at affordable fee only on CampusX\"\n",
    "count=set()\n",
    "for i in Str1:\n",
    "    if i==\"A\" or i==\"a\" or i==\"E\" or i==\"e\" or i==\"I\" or i==\"i\" or i==\"O\" or i==\"o\" or i==\"U\" or i==\"u\":\n",
    "        count.add(i)\n",
    "print(f\"No of unique vowles-{len(count)}\")"
   ]
  },
  {
   "cell_type": "markdown",
   "metadata": {},
   "source": [
    "Q3: Write a program to Check if a given string is binary string of or not.\n",
    "A string is said to be binary if it's consists of only two unique characters.\n",
    "\n",
    "Take string input from user.\n",
    "\n",
    "Input: str = \"01010101010\"\n",
    "\n",
    "Output: Yes\n",
    "\n",
    "Input: str = \"1222211\"\n",
    "\n",
    "Output: Yes\n",
    "\n",
    "Input: str = \"Campusx\"\n",
    "\n",
    "Output: No"
   ]
  },
  {
   "cell_type": "code",
   "execution_count": 18,
   "metadata": {},
   "outputs": [
    {
     "name": "stdout",
     "output_type": "stream",
     "text": [
      "{'0', '1'}\n",
      "Yes\n"
     ]
    }
   ],
   "source": [
    "str=input(\"\")\n",
    "str=set(str)\n",
    "print(str)\n",
    "isBin=True\n",
    "for i in str:\n",
    "    if i!='0' and i != '1':\n",
    "        isBin=False\n",
    "        print(\"No\")\n",
    "        break\n",
    "if isBin:\n",
    "    print(\"Yes\")"
   ]
  },
  {
   "cell_type": "markdown",
   "metadata": {},
   "source": [
    "## Q4: find union of n arrays.\n",
    "\n",
    "Example 1:\n",
    "\n",
    "Input:\n",
    "\n",
    "[[1, 2, 2, 4, 3, 6],\n",
    " \n",
    " [5, 1, 3, 4],\n",
    "\n",
    " [9, 5, 7, 1],\n",
    "\n",
    " [2, 4, 1, 3]]\n",
    "\n",
    "Output:\n",
    "\n",
    "[1, 2, 3, 4, 5, 6, 7, 9]"
   ]
  },
  {
   "cell_type": "code",
   "execution_count": 19,
   "metadata": {},
   "outputs": [
    {
     "name": "stdout",
     "output_type": "stream",
     "text": [
      "{1, 2, 3, 4, 5, 6, 7, 9}\n"
     ]
    }
   ],
   "source": [
    "arrays=[[1, 2, 2, 4, 3, 6],\n",
    " [5, 1, 3, 4],\n",
    " [9, 5, 7, 1],\n",
    " [2, 4, 1, 3]]\n",
    "\n",
    "union=[i for item in arrays for i in item]\n",
    "print(set(union))  "
   ]
  },
  {
   "cell_type": "markdown",
   "metadata": {},
   "source": [
    "Q5: Intersection of two lists. Intersection of two list means we need to take all those elements which are common to both of the initial lists and store them into another list. Only use using list-comprehension.\n",
    "\n",
    "Example 1:\n",
    "\n",
    "Input:\n",
    "\n",
    "lst1 = {15, 9, 10, 56, 23, 78, 5, 4, 9}\n",
    "\n",
    "lst2 = {9, 4, 5, 36, 47, 26, 10, 45, 87}\n",
    "\n",
    "Output:\n",
    "\n",
    "[9, 10, 4, 5]"
   ]
  },
  {
   "cell_type": "code",
   "execution_count": 20,
   "metadata": {},
   "outputs": [
    {
     "name": "stdout",
     "output_type": "stream",
     "text": [
      "{9, 10, 4, 5}\n"
     ]
    }
   ],
   "source": [
    "lst1 = {15, 9, 10, 56, 23, 78, 5, 4, 9}\n",
    "lst2 = {9, 4, 5, 36, 47, 26, 10, 45, 87}\n",
    "print(lst1.intersection(lst2))"
   ]
  },
  {
   "cell_type": "code",
   "execution_count": 21,
   "metadata": {},
   "outputs": [
    {
     "name": "stdout",
     "output_type": "stream",
     "text": [
      "{9, 26, 11, 28}\n"
     ]
    }
   ],
   "source": [
    "lst1 = {4, 9, 1, 17, 11, 26, 28, 54, 69}\n",
    "lst2 = {9, 9, 74, 21, 45, 11, 63, 28, 26}\n",
    "print(lst1.intersection(lst2))"
   ]
  },
  {
   "cell_type": "code",
   "execution_count": null,
   "metadata": {},
   "outputs": [],
   "source": []
  }
 ],
 "metadata": {
  "kernelspec": {
   "display_name": "Python 3",
   "language": "python",
   "name": "python3"
  },
  "language_info": {
   "codemirror_mode": {
    "name": "ipython",
    "version": 3
   },
   "file_extension": ".py",
   "mimetype": "text/x-python",
   "name": "python",
   "nbconvert_exporter": "python",
   "pygments_lexer": "ipython3",
   "version": "3.10.13"
  }
 },
 "nbformat": 4,
 "nbformat_minor": 2
}
