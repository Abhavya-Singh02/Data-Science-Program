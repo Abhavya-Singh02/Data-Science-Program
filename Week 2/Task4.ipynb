{
 "cells": [
  {
   "cell_type": "markdown",
   "metadata": {},
   "source": [
    "Combine two lists index-wise(columns wise)\n",
    "\n",
    "Write a program to add two lists index-wise. Create a new list that contains the 0th index item from both the list, then the 1st index item, and so on till the last element. any leftover items will get added at the end of the new list.\n",
    "\n",
    "Given List:\n",
    "\n",
    "list1 = [\"M\", \"na\", \"i\", \"Kh\"]\n",
    "\n",
    "list2 = [\"y\", \"me\", \"s\", \"an\"]\n",
    "\n",
    "Output:\n",
    "\n",
    "[['M','y'], ['na', me'], ['i', 's'], ['Kh', 'an']]"
   ]
  },
  {
   "cell_type": "code",
   "execution_count": 1,
   "metadata": {},
   "outputs": [
    {
     "name": "stdout",
     "output_type": "stream",
     "text": [
      "[('M', 'y'), ('na', 'me'), ('i', 's'), ('Kh', 'an')]\n"
     ]
    }
   ],
   "source": [
    "list1 = [\"M\", \"na\", \"i\", \"Kh\"]\n",
    "list2 = [\"y\", \"me\", \"s\", \"an\"]\n",
    "list3=list(zip(list1,list2))\n",
    "print(list3)"
   ]
  },
  {
   "cell_type": "code",
   "execution_count": 2,
   "metadata": {},
   "outputs": [
    {
     "data": {
      "text/plain": [
       "[['M', 'y'], ['na', 'me'], ['i', 's'], ['Kh', 'an']]"
      ]
     },
     "execution_count": 2,
     "metadata": {},
     "output_type": "execute_result"
    }
   ],
   "source": [
    "list1 = [\"M\", \"na\", \"i\", \"Kh\"]\n",
    "list2 = [\"y\", \"me\", \"s\", \"an\"]\n",
    "[[i,j] for (i,j) in zip(list1,list2)]"
   ]
  },
  {
   "cell_type": "markdown",
   "metadata": {},
   "source": [
    "Problem 2: Add new item to list after a specified item\n",
    "Write a program to add item 7000 after 6000 in the following Python List\n",
    "\n",
    "list1 = [10, 20, [300, 400, [5000, 6000], 500], 30, 40]\n",
    "\n",
    "Output:\n",
    "\n",
    "[10, 20, [300, 400, [5000, 6000, 7000], 500], 30, 40]"
   ]
  },
  {
   "cell_type": "code",
   "execution_count": 3,
   "metadata": {},
   "outputs": [
    {
     "data": {
      "text/plain": [
       "[10, 20, [300, 400, [5000, 6000, 7000], 500], 30, 40]"
      ]
     },
     "execution_count": 3,
     "metadata": {},
     "output_type": "execute_result"
    }
   ],
   "source": [
    "list1 = [10, 20, [300, 400, [5000, 6000], 500], 30, 40]\n",
    "list1[2][2].append(7000)\n",
    "list1"
   ]
  },
  {
   "cell_type": "markdown",
   "metadata": {},
   "source": [
    "Problem 3: Update no of items available\n",
    "Suppose you are given a list of candy and another list of same size representing no of items of respective candy.\n",
    "\n",
    "\n",
    "i.e -\n",
    "\n",
    "candy_list = ['Jelly Belly','Kit Kat','Double Bubble','Milky Way','Three Musketeers']\n",
    "\n",
    "no_of_items = [10,20,34,74,32]\n",
    "\n",
    "Write a program to show no. of items of each candy type.\n",
    "\n",
    "\n",
    "Output:\n",
    "\n",
    "\n",
    "Jelly Belly-10\n",
    "Kit Kat-20\n",
    "Double Bubble-34\n",
    "Milky Way-74\n",
    "Three Musketeers-32"
   ]
  },
  {
   "cell_type": "code",
   "execution_count": 4,
   "metadata": {},
   "outputs": [
    {
     "name": "stdout",
     "output_type": "stream",
     "text": [
      "Jelly Belly: 10\n",
      "Kit Kat: 20\n",
      "Double Bubble: 34\n",
      "Milky Way: 74\n",
      "Three Musketeers: 32\n"
     ]
    }
   ],
   "source": [
    "candy_list = ['Jelly Belly','Kit Kat','Double Bubble','Milky Way','Three Musketeers']\n",
    "no_of_items = [10,20,34,74,32]\n",
    "for i in range(len(candy_list)):\n",
    "    print(f\"{candy_list[i]}: {no_of_items[i]}\")"
   ]
  },
  {
   "cell_type": "code",
   "execution_count": 5,
   "metadata": {},
   "outputs": [
    {
     "name": "stdout",
     "output_type": "stream",
     "text": [
      "('Jelly Belly', 10)\n",
      "('Kit Kat', 20)\n",
      "('Double Bubble', 34)\n",
      "('Milky Way', 74)\n",
      "('Three Musketeers', 32)\n"
     ]
    }
   ],
   "source": [
    "for i in zip(candy_list, no_of_items):\n",
    "    print(i)"
   ]
  },
  {
   "cell_type": "markdown",
   "metadata": {},
   "source": [
    "Problem 4: Running Sum on list\n",
    "Write a program to print a list after performing running sum on it.\n",
    "\n",
    "i.e:\n",
    "\n",
    "Input:\n",
    "\n",
    "list1 = [1,2,3,4,5,6]\n",
    "\n",
    "Output:\n",
    "\n",
    "[1,3,6,10,15,21]"
   ]
  },
  {
   "cell_type": "code",
   "execution_count": 6,
   "metadata": {},
   "outputs": [
    {
     "name": "stdout",
     "output_type": "stream",
     "text": [
      "[1, 3, 6, 10, 15, 21]\n"
     ]
    }
   ],
   "source": [
    "list1 = [1,2,3,4,5,6]\n",
    "res=[]\n",
    "sum=0\n",
    "for i in list1:\n",
    "    sum+=i\n",
    "    res.append(sum)\n",
    "print(res)"
   ]
  },
  {
   "cell_type": "markdown",
   "metadata": {},
   "source": [
    "Problem 5: You are given a list of integers. You are asked to make a list by running through elements of the list by adding all elements greater and itself.\n",
    "i.e. Say given list is [2,4,6,10,1] resultant list will be [22,20,10,23].\n",
    "\n",
    "For 1st element 2 ->> these are greater (4+6+10) values and 2 itself so on adding becomes 22.\n",
    "\n",
    "For 2nd element 4 ->> greater elements are (6, 10) and 4 itself, so on adding 20\n",
    "\n",
    "like wise for all other elememts.\n",
    "\n",
    "[2,4,6,10,1]-->[22,20,16,10,23]"
   ]
  },
  {
   "cell_type": "markdown",
   "metadata": {},
   "source": [
    "list1=[2,4,6,10,1]\n",
    "list2=[]\n",
    "sum=0\n",
    "for i in list1:\n",
    "    sum=0\n",
    "    for j in list1:\n",
    "        if j>=i:\n",
    "            sum+=j\n",
    "    list2.append(sum)\n",
    "print(list2)\n"
   ]
  },
  {
   "cell_type": "code",
   "execution_count": 7,
   "metadata": {},
   "outputs": [
    {
     "name": "stdout",
     "output_type": "stream",
     "text": [
      "[22, 20, 16, 10, 23]\n"
     ]
    }
   ],
   "source": [
    "list1=[2,4,6,10,1]\n",
    "list2=[]\n",
    "sum=0\n",
    "for i in list1:\n",
    "    sum=0\n",
    "    for j in list1:\n",
    "        if j>=i:\n",
    "            sum+=j\n",
    "    list2.append(sum)\n",
    "print(list2)\n"
   ]
  },
  {
   "cell_type": "markdown",
   "metadata": {},
   "source": [
    "Problem 6: Find list of common unique items from two list. and show in increasing order\n",
    "Input\n",
    "\n",
    "num1 = [23,45,67,78,89,34]\n",
    "num2 = [34,89,55,56,39,67]\n",
    "Output:\n",
    "\n",
    "[34, 67, 89]"
   ]
  },
  {
   "cell_type": "code",
   "execution_count": 8,
   "metadata": {},
   "outputs": [
    {
     "name": "stdout",
     "output_type": "stream",
     "text": [
      "{89, 34, 67}\n"
     ]
    }
   ],
   "source": [
    "num1 = [23,45,67,78,89,34]\n",
    "num2 = [34,89,55,56,39,67]\n",
    "print(set(num1).intersection(set(num2)))"
   ]
  },
  {
   "cell_type": "code",
   "execution_count": 9,
   "metadata": {},
   "outputs": [
    {
     "name": "stdout",
     "output_type": "stream",
     "text": [
      "[67, 89, 34]\n"
     ]
    }
   ],
   "source": [
    "list1=[]\n",
    "for i in num1:\n",
    "    if i in num2:\n",
    "        list1.append(i)\n",
    "print(list1)"
   ]
  },
  {
   "cell_type": "markdown",
   "metadata": {},
   "source": [
    "Problem 7: Sort a list of alphanumeric strings based on product value of numeric character in it. If in any string there is no numeric character take it's product value as 1.\n",
    "Input:\n",
    "\n",
    "['1ac21', '23fg', '456', '098d','1','kls']\n",
    "\n",
    "Output:\n",
    "\n",
    "['456', '23fg', '1ac21', '1', 'kls', '098d']"
   ]
  },
  {
   "cell_type": "code",
   "execution_count": 10,
   "metadata": {},
   "outputs": [
    {
     "name": "stdout",
     "output_type": "stream",
     "text": [
      "[(0, '098d'), (1, '1'), (1, 'kls'), (2, '1ac21'), (6, '23fg'), (120, '456')]\n"
     ]
    },
    {
     "data": {
      "text/plain": [
       "['456', '23fg', '1ac21', 'kls', '1', '098d']"
      ]
     },
     "execution_count": 10,
     "metadata": {},
     "output_type": "execute_result"
    }
   ],
   "source": [
    "list1=['1ac21', '23fg', '456', '098d','1','kls']\n",
    "prod_value=[]\n",
    "for item in list1:\n",
    "    product=1\n",
    "    for char in item:\n",
    "        if char.isdigit():\n",
    "            product=product*int(char)\n",
    "    prod_value.append(product)\n",
    "print(sorted(list(zip(prod_value,list1))))\n",
    "[ i[1] for i in sorted(list(zip(prod_value,list1)))[::-1]]\n"
   ]
  },
  {
   "cell_type": "markdown",
   "metadata": {},
   "source": [
    "Split String of list on K character.\n",
    "\n",
    "Example :\n",
    "\n",
    "Input:\n",
    "\n",
    "['CampusX is a channel', 'for data-science', 'aspirants.']\n",
    "\n",
    "Output:\n",
    "\n",
    "['CampusX', 'is', 'a', 'channel', 'for', 'data-science', 'aspirants.']"
   ]
  },
  {
   "cell_type": "code",
   "execution_count": 11,
   "metadata": {},
   "outputs": [
    {
     "name": "stdout",
     "output_type": "stream",
     "text": [
      "['CampusX', 'is', 'a', 'channel', 'for', 'data-science', 'aspirants.']\n"
     ]
    }
   ],
   "source": [
    "list1=['CampusX is a channel', 'for data-science', 'aspirants.']\n",
    "list2=\"\"\n",
    "for i in list1:\n",
    "    list2+=i+\" \"\n",
    "print(list(list2.split()))"
   ]
  },
  {
   "cell_type": "markdown",
   "metadata": {},
   "source": [
    "Problem 9: Convert Character Matrix to single String using string comprehension.\n",
    "\n",
    "Example 1:\n",
    "\n",
    "Input:\n",
    "\n",
    "[['c', 'a', 'm', 'p', 'u', 'x'], ['i', 's'], ['b', 'e', 's', 't'], ['c', 'h', 'a', 'n', 'n', 'e', 'l']]\n",
    "\n",
    "Output:\n",
    "\n",
    "campux is best channel"
   ]
  },
  {
   "cell_type": "code",
   "execution_count": 12,
   "metadata": {},
   "outputs": [
    {
     "name": "stdout",
     "output_type": "stream",
     "text": [
      "campux is best channel\n"
     ]
    }
   ],
   "source": [
    "list1=[['c', 'a', 'm', 'p', 'u', 'x'], ['i', 's'], ['b', 'e', 's', 't'], ['c', 'h', 'a', 'n', 'n', 'e', 'l']]\n",
    "print(\" \".join([\"\".join(i) for i in list1]))"
   ]
  },
  {
   "cell_type": "markdown",
   "metadata": {},
   "source": [
    "Problem 10: Add Space between Potential Words.\n",
    "\n",
    "Example:\n",
    "\n",
    "Input:\n",
    "\n",
    "['campusxIs', 'bestFor', 'dataScientist']\n",
    "\n",
    "Output:\n",
    "\n",
    "['campusx Is', 'best For', 'data Scientist']"
   ]
  },
  {
   "cell_type": "code",
   "execution_count": 13,
   "metadata": {},
   "outputs": [
    {
     "name": "stdout",
     "output_type": "stream",
     "text": [
      "campusx Is best For data Scientist \n"
     ]
    }
   ],
   "source": [
    "li=['campusxIs', 'bestFor', 'dataScientist']\n",
    "res =\"\"\n",
    "for item in li:\n",
    "    for char in item:\n",
    "        if char.isupper():\n",
    "            res+=\" \"+char\n",
    "        else:\n",
    "            res+=char\n",
    "    res+=\" \"\n",
    "print(res)"
   ]
  },
  {
   "cell_type": "markdown",
   "metadata": {},
   "source": [
    "Problem 11: Write a program that can perform union operation on 2 lists\n",
    "\n",
    "Example:\n",
    "\n",
    "Input:\n",
    "\n",
    "[1,2,3,4,5,1]\n",
    "\n",
    "[2,3,5,7,8]\n",
    "\n",
    "Output:\n",
    "\n",
    "[1,2,3,4,5,7,8]"
   ]
  },
  {
   "cell_type": "code",
   "execution_count": 14,
   "metadata": {},
   "outputs": [
    {
     "name": "stdout",
     "output_type": "stream",
     "text": [
      "{1, 2, 3, 4, 5, 7, 8}\n"
     ]
    }
   ],
   "source": [
    "li1=[1,2,3,4,5,1]\n",
    "li2=[2,3,5,7,8]\n",
    "print(set(li1).union(set(li2)))"
   ]
  },
  {
   "cell_type": "code",
   "execution_count": 15,
   "metadata": {},
   "outputs": [
    {
     "name": "stdout",
     "output_type": "stream",
     "text": [
      "[1, 2, 3, 4, 5, 7, 8]\n"
     ]
    }
   ],
   "source": [
    "union=[]\n",
    "for i in li1:\n",
    "    if i not in union:\n",
    "        union.append(i)\n",
    "for i in li2:\n",
    "    if i not in union:\n",
    "        union.append(i)\n",
    "print(union)"
   ]
  },
  {
   "cell_type": "markdown",
   "metadata": {},
   "source": [
    "Problem 12: Write a program that can find the max number of each row of a matrix\n",
    "\n",
    "Example:\n",
    "\n",
    "Input:\n",
    "\n",
    "[[1,2,3],[4,5,6],[7,8,9]]\n",
    "\n",
    "Output:\n",
    "\n",
    "[3,6,9]"
   ]
  },
  {
   "cell_type": "code",
   "execution_count": 16,
   "metadata": {},
   "outputs": [
    {
     "data": {
      "text/plain": [
       "[3, 6, 9]"
      ]
     },
     "execution_count": 16,
     "metadata": {},
     "output_type": "execute_result"
    }
   ],
   "source": [
    "li=[[1,2,3],[4,5,6],[7,8,9]]\n",
    "[max(i) for i in li]"
   ]
  },
  {
   "cell_type": "markdown",
   "metadata": {},
   "source": [
    "Problem 13: Write a list comprehension to print the following matrix\n",
    "\n",
    "[[0, 1, 2], [3, 4, 5], [6, 7, 8]]"
   ]
  },
  {
   "cell_type": "code",
   "execution_count": 17,
   "metadata": {},
   "outputs": [
    {
     "data": {
      "text/plain": [
       "[[0, 1, 2], [3, 4, 5], [6, 7, 8]]"
      ]
     },
     "execution_count": 17,
     "metadata": {},
     "output_type": "execute_result"
    }
   ],
   "source": [
    "[[j+i*3 for j in range(3)] for i in range(3)]"
   ]
  },
  {
   "cell_type": "markdown",
   "metadata": {},
   "source": [
    "Problem 14: Write a list comprehension that can transpose a given matrix\n",
    "matrix = \n",
    "[\n",
    "\n",
    "[1,2,3],\n",
    "\n",
    "[4,5,6],\n",
    "\n",
    "[7,8,9]\n",
    "\n",
    "]\n",
    "\n",
    "[1, 4, 7]\n",
    "\n",
    "[2, 5, 8]\n",
    "\n",
    "[3, 6, 9]"
   ]
  },
  {
   "cell_type": "code",
   "execution_count": 18,
   "metadata": {},
   "outputs": [
    {
     "data": {
      "text/plain": [
       "[[1, 4, 7], [2, 5, 8], [3, 6, 9]]"
      ]
     },
     "execution_count": 18,
     "metadata": {},
     "output_type": "execute_result"
    }
   ],
   "source": [
    "matrix = [\n",
    "[1,2,3],\n",
    "[4,5,6],\n",
    "[7,8,9]\n",
    "]\n",
    "len(matrix)\n",
    "[[row[i] for row in matrix]for i in range(len(matrix))]"
   ]
  },
  {
   "cell_type": "markdown",
   "metadata": {},
   "source": [
    "Problem 15: Write a list comprehension that can flatten a nested list\n",
    "Input\n",
    "\n",
    "matrix = [\n",
    "\n",
    "[1,2,3],\n",
    "\n",
    "[4,5,6],\n",
    "\n",
    "[7,8,9]\n",
    "\n",
    "]\n",
    "\n",
    "Output:\n",
    "\n",
    "[1, 2, 3, 4, 5, 6, 7, 8, 9]"
   ]
  },
  {
   "cell_type": "code",
   "execution_count": 19,
   "metadata": {},
   "outputs": [
    {
     "data": {
      "text/plain": [
       "[1, 2, 3, 4, 5, 6, 7, 8, 9]"
      ]
     },
     "execution_count": 19,
     "metadata": {},
     "output_type": "execute_result"
    }
   ],
   "source": [
    "matrix = [\n",
    "[1,2,3],\n",
    "[4,5,6],\n",
    "[7,8,9]\n",
    "]\n",
    "[i for item in matrix for i in item]"
   ]
  }
 ],
 "metadata": {
  "kernelspec": {
   "display_name": "Python 3",
   "language": "python",
   "name": "python3"
  },
  "language_info": {
   "codemirror_mode": {
    "name": "ipython",
    "version": 3
   },
   "file_extension": ".py",
   "mimetype": "text/x-python",
   "name": "python",
   "nbconvert_exporter": "python",
   "pygments_lexer": "ipython3",
   "version": "3.10.13"
  }
 },
 "nbformat": 4,
 "nbformat_minor": 2
}
