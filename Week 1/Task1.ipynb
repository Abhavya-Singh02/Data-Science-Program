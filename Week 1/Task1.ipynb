{
 "cells": [
  {
   "cell_type": "markdown",
   "id": "11f358e4-30d0-4397-8e1c-9637f9929fda",
   "metadata": {},
   "source": [
    "### Q1 :- Print the given strings as per stated format.\n",
    "\n",
    "Given strings:\n",
    "\n",
    "\"Data\" \"Science\" \"Mentorship\" \"Program\" \n",
    "\n",
    "\"By\" \"CampusX\"\n",
    "\n",
    "Output:\n",
    "\n",
    "Data-Science-Mentorship-Program-started-By-CampusX"
   ]
  },
  {
   "cell_type": "code",
   "execution_count": 4,
   "id": "203d4cd3-4ef0-4dbc-92ef-11eaa1095837",
   "metadata": {},
   "outputs": [
    {
     "name": "stdout",
     "output_type": "stream",
     "text": [
      "Data-Science-Mentorship-Program-started-By-CampusX\n"
     ]
    }
   ],
   "source": [
    "print(\"Data\", \"Science\", \"Mentorship\", \"Program\", sep='-', end=\"-started-\")\n",
    "print(\"By\", \"CampusX\", sep='-')"
   ]
  },
  {
   "cell_type": "markdown",
   "id": "b38645dc-b0e2-475c-b821-75fb37e7e563",
   "metadata": {},
   "source": [
    "### Q2:- Write a program that will convert celsius value to fahrenheit."
   ]
  },
  {
   "cell_type": "code",
   "execution_count": 8,
   "id": "f534143d-b001-425c-9249-bc422b2f078e",
   "metadata": {},
   "outputs": [
    {
     "name": "stdin",
     "output_type": "stream",
     "text": [
      "Enter temperature in celsius:  35.6\n"
     ]
    },
    {
     "name": "stdout",
     "output_type": "stream",
     "text": [
      "Temperature in Fahrenheit: 96.08\n"
     ]
    }
   ],
   "source": [
    "tempC = float(input(\"Enter temperature in celsius: \"))\n",
    "tempF = (9/5)*tempC + 32\n",
    "print(f\"Temperature in Fahrenheit: {tempF}\")"
   ]
  },
  {
   "cell_type": "markdown",
   "id": "95fc2a54-4919-4448-871a-7c1b064a6bbe",
   "metadata": {},
   "source": [
    "### Q3:- Take 2 numbers as input from the user.Write a program to swap the numbers without using any special python syntax."
   ]
  },
  {
   "cell_type": "code",
   "execution_count": 10,
   "id": "726ec404-0501-46af-a1ae-f4963a5437d9",
   "metadata": {},
   "outputs": [
    {
     "name": "stdin",
     "output_type": "stream",
     "text": [
      "Enter a number:  4\n",
      "Enter b number:  5\n"
     ]
    },
    {
     "name": "stdout",
     "output_type": "stream",
     "text": [
      "a:5, b:4\n"
     ]
    }
   ],
   "source": [
    "a = input(\"Enter a number: \")\n",
    "b = input(\"Enter b number: \")\n",
    "a,b = b,a\n",
    "print(f\"a:{a}, b:{b}\")"
   ]
  },
  {
   "cell_type": "markdown",
   "id": "0ad2e612-1847-42f2-bae8-df444aad10da",
   "metadata": {},
   "source": [
    "### Q4:- Write a program to find the euclidean distance between two coordinates.Take both the coordinates from the user as input."
   ]
  },
  {
   "cell_type": "code",
   "execution_count": 18,
   "id": "82ff08ef-1c2d-4c83-aae7-60bd41ce2de0",
   "metadata": {},
   "outputs": [
    {
     "name": "stdin",
     "output_type": "stream",
     "text": [
      "Enter first X cordinate:  0\n",
      "Enter second X cordinate:  2\n",
      "Enter first Y cordinate:  0\n",
      "Enter second Y cordinate:  2\n"
     ]
    },
    {
     "name": "stdout",
     "output_type": "stream",
     "text": [
      "Euclidean distance between two cordinate is: 2.8284271247461903\n"
     ]
    }
   ],
   "source": [
    "import math\n",
    "firstXCor = int(input(\"Enter first X cordinate: \"))\n",
    "secondXCor = int(input(\"Enter second X cordinate: \"))\n",
    "firstYCor = int(input(\"Enter first Y cordinate: \"))\n",
    "secondYCor =  int(input(\"Enter second Y cordinate: \"))\n",
    "\n",
    "euclideanDist = math.sqrt(pow((firstXCor-secondXCor),2)+pow((firstYCor-secondYCor),2))\n",
    "print(f\"Euclidean distance between two cordinate is: {euclideanDist}\")"
   ]
  },
  {
   "cell_type": "markdown",
   "id": "1b8a6aea-c278-4ad2-947d-22347d3444f5",
   "metadata": {},
   "source": [
    "### Q5:- Write a program to find the simple interest when the value of principle,rate of interest and time period is provided by the user."
   ]
  },
  {
   "cell_type": "code",
   "execution_count": 20,
   "id": "3d9c67f2-e7e5-4e39-b880-252368261c7e",
   "metadata": {},
   "outputs": [
    {
     "name": "stdin",
     "output_type": "stream",
     "text": [
      "Enter Principal:  10000\n",
      "Enter Rate:  5\n",
      "Enter Time:  2\n"
     ]
    },
    {
     "name": "stdout",
     "output_type": "stream",
     "text": [
      "1000.0\n"
     ]
    }
   ],
   "source": [
    "principal = int(input(\"Enter Principal: \"))\n",
    "rate = int(input(\"Enter Rate: \"))\n",
    "time = int(input(\"Enter Time: \"))\n",
    "SI = (principal*rate*time)/100\n",
    "print(SI)"
   ]
  },
  {
   "cell_type": "markdown",
   "id": "55e236b9-e7ef-48c9-b6b4-dbefe8b70fca",
   "metadata": {},
   "source": [
    "### Q6:- Write a program that will tell the number of dogs and chicken are there when the user will provide the value of total heads and legs.\r\n",
    "For example: Input: heads -> 4 legs -> 12\r\n",
    "Output: dogs -> 2 chicken -> 2"
   ]
  },
  {
   "cell_type": "code",
   "execution_count": 24,
   "id": "7229685e-2521-4f2d-939f-86b3bacf3f84",
   "metadata": {},
   "outputs": [
    {
     "name": "stdin",
     "output_type": "stream",
     "text": [
      "Enter the number of heads:  4\n",
      "enter the number of legs:  16\n"
     ]
    },
    {
     "name": "stdout",
     "output_type": "stream",
     "text": [
      "The number of cats and dogs is 0 and 4\n"
     ]
    }
   ],
   "source": [
    "heads = int(input(\"Enter the number of heads: \"))\n",
    "legs = int(input(\"enter the number of legs: \"))\n",
    "if legs % 2 != 0 or legs < heads * 2 or heads < 0 or legs < 0:\n",
    "        print(\"Invalid input: ensure that the number of legs is even and consistent with the number of heads.\")\n",
    "\n",
    "d = (legs - 2 * heads) // 2\n",
    "c = heads - d\n",
    "\n",
    "print(f\"The number of cats and dogs is {c} and {d}\")"
   ]
  },
  {
   "cell_type": "markdown",
   "id": "ed8d0b41-e21f-492b-a6b4-4994f8f018b9",
   "metadata": {},
   "source": [
    "### Q7:- Write a program to find the sum of squares of first n natural numbers where n will be provided by the user.\n",
    "Hint - n(n+1)(2n+1)/6"
   ]
  },
  {
   "cell_type": "code",
   "execution_count": 26,
   "id": "61bb3087-447e-4ea8-bf7a-9f8e33be8c66",
   "metadata": {},
   "outputs": [
    {
     "name": "stdin",
     "output_type": "stream",
     "text": [
      "Enter a number:  5\n"
     ]
    },
    {
     "name": "stdout",
     "output_type": "stream",
     "text": [
      "55\n"
     ]
    }
   ],
   "source": [
    "n = int(input(\"Enter a number: \"))\n",
    "sum = 0\n",
    "for i in range(n+1):\n",
    "    i = i**2\n",
    "    sum +=i\n",
    "print(sum)"
   ]
  },
  {
   "cell_type": "code",
   "execution_count": 29,
   "id": "2c106920-1cfc-4ec1-85ab-80bee82be051",
   "metadata": {},
   "outputs": [
    {
     "name": "stdin",
     "output_type": "stream",
     "text": [
      "Enter a number:  5\n"
     ]
    },
    {
     "data": {
      "text/plain": [
       "55.0"
      ]
     },
     "execution_count": 29,
     "metadata": {},
     "output_type": "execute_result"
    }
   ],
   "source": [
    "n = int(input(\"Enter a number: \"))\n",
    "sum = (n*(n+1)*(2*n+1))/6\n",
    "sum"
   ]
  },
  {
   "cell_type": "markdown",
   "id": "327fc951-df49-4125-93a9-8d732af9abfb",
   "metadata": {},
   "source": [
    "### Q8:- Given the first 2 terms of an Arithmetic Series.Find the Nth term of the series. Assume all inputs are provided by the user.\n",
    "Hint - an = a+(n-1)d"
   ]
  },
  {
   "cell_type": "code",
   "execution_count": 35,
   "id": "55280730-1213-4e21-b26c-79ce8ece208a",
   "metadata": {},
   "outputs": [
    {
     "name": "stdin",
     "output_type": "stream",
     "text": [
      "Enter first term:  3\n",
      "Enter second term:  6\n",
      "Enter  nth term :  5\n"
     ]
    },
    {
     "name": "stdout",
     "output_type": "stream",
     "text": [
      "Nth term of this AP is: 15\n"
     ]
    }
   ],
   "source": [
    "firstTerm = int(input(\"Enter first term: \"))\n",
    "secondTerm = int(input(\"Enter second term: \"))\n",
    "diff = secondTerm - firstTerm\n",
    "n = int(input(\"Enter  nth term : \"))\n",
    "nth = firstTerm+(n-1)*diff\n",
    "print(f\"Nth term of this AP is: {nth}\")"
   ]
  },
  {
   "cell_type": "markdown",
   "id": "ec782aff-5064-4707-ba77-551d161392bd",
   "metadata": {},
   "source": [
    "### Q9:- Given 2 fractions, find the sum of those 2 fractions.Take the numerator and denominator values of the fractions from the user."
   ]
  },
  {
   "cell_type": "code",
   "execution_count": 37,
   "id": "b077e1c6-ace4-44af-b5d6-ec5cfdd1a3f1",
   "metadata": {},
   "outputs": [
    {
     "name": "stdin",
     "output_type": "stream",
     "text": [
      "First Numerator:  2\n",
      "First Denominator:  3\n",
      "Second Numerator:  4\n",
      "Second Denominator:  5\n"
     ]
    },
    {
     "name": "stdout",
     "output_type": "stream",
     "text": [
      "sum of both fraction is: 1.4666666666666666\n"
     ]
    }
   ],
   "source": [
    "firstNum, firstDeno = int(input(\"First Numerator: \")), int(input(\"First Denominator: \"))\n",
    "secondNum, secondDeno = int(input(\"Second Numerator: \")), int(input(\"Second Denominator: \"))\n",
    "sum = ((firstNum * secondDeno)+(secondNum * firstDeno))/(firstDeno * secondDeno)\n",
    "print(f\"sum of both fraction is: {sum}\")"
   ]
  },
  {
   "cell_type": "code",
   "execution_count": 42,
   "id": "c50e2535-af8c-41af-bb43-2207bf169452",
   "metadata": {},
   "outputs": [
    {
     "name": "stdin",
     "output_type": "stream",
     "text": [
      "First Numerator:  2\n",
      "First Denominator:  3\n",
      "Second Numerator:  4\n",
      "Second Denominator:  5\n"
     ]
    },
    {
     "name": "stdout",
     "output_type": "stream",
     "text": [
      "22/15 is the sum of both fractions\n"
     ]
    }
   ],
   "source": [
    "firstNum, firstDeno = int(input(\"First Numerator: \")), int(input(\"First Denominator: \"))\n",
    "secondNum, secondDeno = int(input(\"Second Numerator: \")), int(input(\"Second Denominator: \"))\n",
    "upper=(firstNum * secondDeno)+(secondNum * firstDeno)\n",
    "lower=(firstDeno * secondDeno)\n",
    "print(f\"{upper}/{lower} is the sum of both fractions\")"
   ]
  },
  {
   "cell_type": "markdown",
   "id": "17f286d0-6288-40ae-9d24-4551f81b286a",
   "metadata": {},
   "source": [
    "### Q10:- Given the height, width and breadth of a milk tank, you have to find out how many glasses of milk can be obtained? Assume all the inputs are provided by the user.\r\n",
    "Input:\r\n",
    "Dimensions of the milk tank\r\n",
    "H = 20cm, L = 20cm, B = 20cm\r\n",
    "\r\n",
    "Dimensions of the glass\r\n",
    "h = 3cm, r\n",
    "\n",
    "vol of cylinder = pir^2h\n",
    "vol of cuboid = lbh = 1cm"
   ]
  },
  {
   "cell_type": "code",
   "execution_count": 45,
   "id": "374a3704-4ac5-4b95-808c-6b7e4c08aeaa",
   "metadata": {},
   "outputs": [
    {
     "name": "stdin",
     "output_type": "stream",
     "text": [
      " 10\n",
      " 10\n",
      " 19\n",
      " 5\n",
      " 2\n"
     ]
    },
    {
     "name": "stdout",
     "output_type": "stream",
     "text": [
      "no. of glass: 30.0\n"
     ]
    }
   ],
   "source": [
    "th = int(input())\n",
    "tl = int(input())\n",
    "tb = int(input())\n",
    "\n",
    "gh = int(input())\n",
    "gr= int(input())\n",
    "\n",
    "hvol = th*tb*tl\n",
    "gvol = 3.14*gh*gr*gr \n",
    "print(f\"no. of glass: {hvol//gvol}\")"
   ]
  },
  {
   "cell_type": "code",
   "execution_count": null,
   "id": "fac7b98f-6df9-44e8-85c9-bf265a98cc94",
   "metadata": {},
   "outputs": [],
   "source": []
  }
 ],
 "metadata": {
  "kernelspec": {
   "display_name": "Python 3 (ipykernel)",
   "language": "python",
   "name": "python3"
  },
  "language_info": {
   "codemirror_mode": {
    "name": "ipython",
    "version": 3
   },
   "file_extension": ".py",
   "mimetype": "text/x-python",
   "name": "python",
   "nbconvert_exporter": "python",
   "pygments_lexer": "ipython3",
   "version": "3.11.5"
  }
 },
 "nbformat": 4,
 "nbformat_minor": 5
}
