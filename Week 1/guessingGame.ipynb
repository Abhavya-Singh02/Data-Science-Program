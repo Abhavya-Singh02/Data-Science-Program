{
 "cells": [
  {
   "cell_type": "code",
   "execution_count": 1,
   "metadata": {},
   "outputs": [
    {
     "name": "stdout",
     "output_type": "stream",
     "text": [
      "wrong Guess!!!\n",
      "Guess higher.\n",
      "wrong Guess!!!\n",
      "Guess higher.\n",
      "wrong Guess!!!\n",
      "Guess higher.\n",
      "wrong Guess!!!\n",
      "Guess higher.\n",
      "wrong Guess!!!\n",
      "Guess higher.\n",
      "wrong Guess!!!\n",
      "Guess higher.\n",
      "Wrong Guess!!!\n",
      "Guess lower.\n",
      "Wrong Guess!!!\n",
      "Guess lower.\n",
      "wrong Guess!!!\n",
      "Guess higher.\n",
      "Wrong Guess!!!\n",
      "Guess lower.\n",
      "wrong Guess!!!\n",
      "Guess higher.\n",
      "wrong Guess!!!\n",
      "Guess higher.\n",
      "wrong Guess!!!\n",
      "Guess higher.\n",
      "Wrong Guess!!!\n",
      "Guess lower.\n",
      "Wrong Guess!!!\n",
      "Guess lower.\n",
      "Wrong Guess!!!\n",
      "Guess lower.\n",
      "Right Guess!!!\n",
      "Your Guess Number and Jackpot Number is same.\n",
      "Guess Number: 64 Jackpot Number: 64\n"
     ]
    }
   ],
   "source": [
    "import random\n",
    "jackpot=random.randint(1,100)\n",
    "guessNumber=int(input(\"Guess a number that is equal to jackpot: \"))\n",
    "while guessNumber!=jackpot:\n",
    "    if guessNumber<jackpot:\n",
    "        print(\"wrong Guess!!!\\nGuess higher.\")\n",
    "    else:\n",
    "        print(\"Wrong Guess!!!\\nGuess lower.\")\n",
    "    \n",
    "    guessNumber=int(input(\"Guess again a number that is equal to jackpot: \"))\n",
    "\n",
    "else:\n",
    "    print(f\"Right Guess!!!\\nYour Guess Number and Jackpot Number is same.\\nGuess Number: {guessNumber} Jackpot Number: {jackpot}\")\n",
    "        "
   ]
  }
 ],
 "metadata": {
  "kernelspec": {
   "display_name": "Python 3",
   "language": "python",
   "name": "python3"
  },
  "language_info": {
   "codemirror_mode": {
    "name": "ipython",
    "version": 3
   },
   "file_extension": ".py",
   "mimetype": "text/x-python",
   "name": "python",
   "nbconvert_exporter": "python",
   "pygments_lexer": "ipython3",
   "version": "3.10.13"
  }
 },
 "nbformat": 4,
 "nbformat_minor": 2
}
