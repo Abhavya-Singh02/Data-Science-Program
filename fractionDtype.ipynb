{
  "nbformat": 4,
  "nbformat_minor": 0,
  "metadata": {
    "colab": {
      "provenance": [],
      "authorship_tag": "ABX9TyO76JgrVdLK6FdrFjZi8qls",
      "include_colab_link": true
    },
    "kernelspec": {
      "name": "python3",
      "display_name": "Python 3"
    },
    "language_info": {
      "name": "python"
    }
  },
  "cells": [
    {
      "cell_type": "markdown",
      "metadata": {
        "id": "view-in-github",
        "colab_type": "text"
      },
      "source": [
        "<a href=\"https://colab.research.google.com/github/Abhavya-Singh02/Data-Science-Program/blob/main/fractionDtype.ipynb\" target=\"_parent\"><img src=\"https://colab.research.google.com/assets/colab-badge.svg\" alt=\"Open In Colab\"/></a>"
      ]
    },
    {
      "cell_type": "code",
      "execution_count": 42,
      "metadata": {
        "id": "GxOU21BhxqIq"
      },
      "outputs": [],
      "source": [
        "class Fraction:\n",
        "\n",
        "  # parameterized constructor\n",
        "  def __init__(self,x,y):\n",
        "    self.num = x\n",
        "    self.den = y\n",
        "\n",
        "  def __str__(self):\n",
        "    return f\"{self.num}/{self.den}\"\n",
        "\n",
        "  def __add__(self,other):\n",
        "    newNum = self.num*other.den + other.num*self.den\n",
        "    newDen = self.den*other.den\n",
        "    return Fraction(newNum,newDen)\n",
        "\n",
        "  def __sub__(self,other):\n",
        "    newNum = self.num*other.den - other.num*self.den\n",
        "    newDen = self.den*other.den\n",
        "    return Fraction(newNum,newDen)\n",
        "\n",
        "\n",
        "  def __mul__(self,other):\n",
        "    newNum = self.num*other.num\n",
        "    newDen = self.den*other.den\n",
        "    return Fraction(newNum,newDen)\n",
        "\n",
        "  def __truediv__(self,other):\n",
        "    newNum = self.num*other.den\n",
        "    newDen = self.den*other.num\n",
        "    return Fraction(newNum,newDen)\n",
        "\n",
        "  def convert_to_decimal(self):\n",
        "    return self.num/self.den"
      ]
    },
    {
      "cell_type": "code",
      "source": [
        "fr1=Fraction(3,4)"
      ],
      "metadata": {
        "id": "Rz6Yy_1ZzyPH"
      },
      "execution_count": 43,
      "outputs": []
    },
    {
      "cell_type": "code",
      "source": [
        "print(type(fr1))"
      ],
      "metadata": {
        "colab": {
          "base_uri": "https://localhost:8080/"
        },
        "id": "56wMdlzLz7fH",
        "outputId": "35113140-7120-4e36-89a5-6e9f67e39dbf"
      },
      "execution_count": 44,
      "outputs": [
        {
          "output_type": "stream",
          "name": "stdout",
          "text": [
            "<class '__main__.Fraction'>\n"
          ]
        }
      ]
    },
    {
      "cell_type": "code",
      "source": [
        "print(fr1)"
      ],
      "metadata": {
        "colab": {
          "base_uri": "https://localhost:8080/"
        },
        "id": "CUAyy-QLz95t",
        "outputId": "127427c3-1e82-4de4-fcba-f52192bc2449"
      },
      "execution_count": 45,
      "outputs": [
        {
          "output_type": "stream",
          "name": "stdout",
          "text": [
            "3/4\n"
          ]
        }
      ]
    },
    {
      "cell_type": "code",
      "source": [
        "fr2=Fraction(1,2)\n",
        "print(fr1+fr2)\n",
        "print(fr1-fr2)\n",
        "print(fr1*fr2)\n",
        "print(fr1/fr2)"
      ],
      "metadata": {
        "colab": {
          "base_uri": "https://localhost:8080/"
        },
        "id": "iDiA1X9uz_4u",
        "outputId": "3cd116b3-89d2-48a7-b284-0d080d1a6f49"
      },
      "execution_count": 46,
      "outputs": [
        {
          "output_type": "stream",
          "name": "stdout",
          "text": [
            "10/8\n",
            "2/8\n",
            "3/8\n",
            "6/4\n"
          ]
        }
      ]
    },
    {
      "cell_type": "code",
      "source": [
        "fr3=Fraction(1,2)\n",
        "print(fr3)"
      ],
      "metadata": {
        "colab": {
          "base_uri": "https://localhost:8080/"
        },
        "id": "rIEcksY50VD9",
        "outputId": "58156d69-9662-4beb-8ff2-a860a50d7214"
      },
      "execution_count": 47,
      "outputs": [
        {
          "output_type": "stream",
          "name": "stdout",
          "text": [
            "1/2\n"
          ]
        }
      ]
    },
    {
      "cell_type": "code",
      "source": [
        "print(fr1+fr2+fr3)"
      ],
      "metadata": {
        "colab": {
          "base_uri": "https://localhost:8080/"
        },
        "id": "dKU-Up6N0vla",
        "outputId": "7e4b9958-e0cb-4adc-c6f2-d9b8d5193727"
      },
      "execution_count": 49,
      "outputs": [
        {
          "output_type": "stream",
          "name": "stdout",
          "text": [
            "28/16\n"
          ]
        }
      ]
    },
    {
      "cell_type": "code",
      "source": [],
      "metadata": {
        "id": "Btkh1xLq08Uv"
      },
      "execution_count": null,
      "outputs": []
    }
  ]
}